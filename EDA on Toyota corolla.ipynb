{
 "cells": [
  {
   "cell_type": "markdown",
   "id": "ae819ff7",
   "metadata": {},
   "source": [
    "Import Libraries "
   ]
  },
  {
   "cell_type": "code",
   "execution_count": 1,
   "id": "b465e447",
   "metadata": {},
   "outputs": [],
   "source": [
    "import pandas as pd\n",
    "import seaborn as sns \n",
    "import matplotlib.pyplot as plt"
   ]
  },
  {
   "cell_type": "markdown",
   "id": "68ab2373",
   "metadata": {},
   "source": [
    "Load The Data Set"
   ]
  },
  {
   "cell_type": "code",
   "execution_count": 2,
   "id": "904145fd",
   "metadata": {},
   "outputs": [],
   "source": [
    "data = pd.read_csv(\"ToyotaCorolla.csv\",encoding=\"latin-1\")"
   ]
  },
  {
   "cell_type": "code",
   "execution_count": 3,
   "id": "53bbdcf5",
   "metadata": {},
   "outputs": [
    {
     "data": {
      "text/html": [
       "<div>\n",
       "<style scoped>\n",
       "    .dataframe tbody tr th:only-of-type {\n",
       "        vertical-align: middle;\n",
       "    }\n",
       "\n",
       "    .dataframe tbody tr th {\n",
       "        vertical-align: top;\n",
       "    }\n",
       "\n",
       "    .dataframe thead th {\n",
       "        text-align: right;\n",
       "    }\n",
       "</style>\n",
       "<table border=\"1\" class=\"dataframe\">\n",
       "  <thead>\n",
       "    <tr style=\"text-align: right;\">\n",
       "      <th></th>\n",
       "      <th>Id</th>\n",
       "      <th>Model</th>\n",
       "      <th>Price</th>\n",
       "      <th>Age_08_04</th>\n",
       "      <th>Mfg_Month</th>\n",
       "      <th>Mfg_Year</th>\n",
       "      <th>KM</th>\n",
       "      <th>Fuel_Type</th>\n",
       "      <th>HP</th>\n",
       "      <th>Met_Color</th>\n",
       "      <th>...</th>\n",
       "      <th>Central_Lock</th>\n",
       "      <th>Powered_Windows</th>\n",
       "      <th>Power_Steering</th>\n",
       "      <th>Radio</th>\n",
       "      <th>Mistlamps</th>\n",
       "      <th>Sport_Model</th>\n",
       "      <th>Backseat_Divider</th>\n",
       "      <th>Metallic_Rim</th>\n",
       "      <th>Radio_cassette</th>\n",
       "      <th>Tow_Bar</th>\n",
       "    </tr>\n",
       "  </thead>\n",
       "  <tbody>\n",
       "    <tr>\n",
       "      <th>0</th>\n",
       "      <td>1</td>\n",
       "      <td>TOYOTA Corolla 2.0 D4D HATCHB TERRA 2/3-Doors</td>\n",
       "      <td>13500</td>\n",
       "      <td>23</td>\n",
       "      <td>10</td>\n",
       "      <td>2002</td>\n",
       "      <td>46986</td>\n",
       "      <td>Diesel</td>\n",
       "      <td>90</td>\n",
       "      <td>1</td>\n",
       "      <td>...</td>\n",
       "      <td>1</td>\n",
       "      <td>1</td>\n",
       "      <td>1</td>\n",
       "      <td>0</td>\n",
       "      <td>0</td>\n",
       "      <td>0</td>\n",
       "      <td>1</td>\n",
       "      <td>0</td>\n",
       "      <td>0</td>\n",
       "      <td>0</td>\n",
       "    </tr>\n",
       "    <tr>\n",
       "      <th>1</th>\n",
       "      <td>2</td>\n",
       "      <td>TOYOTA Corolla 2.0 D4D HATCHB TERRA 2/3-Doors</td>\n",
       "      <td>13750</td>\n",
       "      <td>23</td>\n",
       "      <td>10</td>\n",
       "      <td>2002</td>\n",
       "      <td>72937</td>\n",
       "      <td>Diesel</td>\n",
       "      <td>90</td>\n",
       "      <td>1</td>\n",
       "      <td>...</td>\n",
       "      <td>1</td>\n",
       "      <td>0</td>\n",
       "      <td>1</td>\n",
       "      <td>0</td>\n",
       "      <td>0</td>\n",
       "      <td>0</td>\n",
       "      <td>1</td>\n",
       "      <td>0</td>\n",
       "      <td>0</td>\n",
       "      <td>0</td>\n",
       "    </tr>\n",
       "    <tr>\n",
       "      <th>2</th>\n",
       "      <td>3</td>\n",
       "      <td>TOYOTA Corolla 2.0 D4D HATCHB TERRA 2/3-Doors</td>\n",
       "      <td>13950</td>\n",
       "      <td>24</td>\n",
       "      <td>9</td>\n",
       "      <td>2002</td>\n",
       "      <td>41711</td>\n",
       "      <td>Diesel</td>\n",
       "      <td>90</td>\n",
       "      <td>1</td>\n",
       "      <td>...</td>\n",
       "      <td>0</td>\n",
       "      <td>0</td>\n",
       "      <td>1</td>\n",
       "      <td>0</td>\n",
       "      <td>0</td>\n",
       "      <td>0</td>\n",
       "      <td>1</td>\n",
       "      <td>0</td>\n",
       "      <td>0</td>\n",
       "      <td>0</td>\n",
       "    </tr>\n",
       "    <tr>\n",
       "      <th>3</th>\n",
       "      <td>4</td>\n",
       "      <td>TOYOTA Corolla 2.0 D4D HATCHB TERRA 2/3-Doors</td>\n",
       "      <td>14950</td>\n",
       "      <td>26</td>\n",
       "      <td>7</td>\n",
       "      <td>2002</td>\n",
       "      <td>48000</td>\n",
       "      <td>Diesel</td>\n",
       "      <td>90</td>\n",
       "      <td>0</td>\n",
       "      <td>...</td>\n",
       "      <td>0</td>\n",
       "      <td>0</td>\n",
       "      <td>1</td>\n",
       "      <td>0</td>\n",
       "      <td>0</td>\n",
       "      <td>0</td>\n",
       "      <td>1</td>\n",
       "      <td>0</td>\n",
       "      <td>0</td>\n",
       "      <td>0</td>\n",
       "    </tr>\n",
       "    <tr>\n",
       "      <th>4</th>\n",
       "      <td>5</td>\n",
       "      <td>TOYOTA Corolla 2.0 D4D HATCHB SOL 2/3-Doors</td>\n",
       "      <td>13750</td>\n",
       "      <td>30</td>\n",
       "      <td>3</td>\n",
       "      <td>2002</td>\n",
       "      <td>38500</td>\n",
       "      <td>Diesel</td>\n",
       "      <td>90</td>\n",
       "      <td>0</td>\n",
       "      <td>...</td>\n",
       "      <td>1</td>\n",
       "      <td>1</td>\n",
       "      <td>1</td>\n",
       "      <td>0</td>\n",
       "      <td>1</td>\n",
       "      <td>0</td>\n",
       "      <td>1</td>\n",
       "      <td>0</td>\n",
       "      <td>0</td>\n",
       "      <td>0</td>\n",
       "    </tr>\n",
       "  </tbody>\n",
       "</table>\n",
       "<p>5 rows × 38 columns</p>\n",
       "</div>"
      ],
      "text/plain": [
       "   Id                                           Model  Price  Age_08_04  \\\n",
       "0   1   TOYOTA Corolla 2.0 D4D HATCHB TERRA 2/3-Doors  13500         23   \n",
       "1   2   TOYOTA Corolla 2.0 D4D HATCHB TERRA 2/3-Doors  13750         23   \n",
       "2   3   TOYOTA Corolla 2.0 D4D HATCHB TERRA 2/3-Doors  13950         24   \n",
       "3   4   TOYOTA Corolla 2.0 D4D HATCHB TERRA 2/3-Doors  14950         26   \n",
       "4   5     TOYOTA Corolla 2.0 D4D HATCHB SOL 2/3-Doors  13750         30   \n",
       "\n",
       "   Mfg_Month  Mfg_Year     KM Fuel_Type  HP  Met_Color  ... Central_Lock  \\\n",
       "0         10      2002  46986    Diesel  90          1  ...            1   \n",
       "1         10      2002  72937    Diesel  90          1  ...            1   \n",
       "2          9      2002  41711    Diesel  90          1  ...            0   \n",
       "3          7      2002  48000    Diesel  90          0  ...            0   \n",
       "4          3      2002  38500    Diesel  90          0  ...            1   \n",
       "\n",
       "   Powered_Windows  Power_Steering  Radio  Mistlamps  Sport_Model  \\\n",
       "0                1               1      0          0            0   \n",
       "1                0               1      0          0            0   \n",
       "2                0               1      0          0            0   \n",
       "3                0               1      0          0            0   \n",
       "4                1               1      0          1            0   \n",
       "\n",
       "   Backseat_Divider  Metallic_Rim  Radio_cassette  Tow_Bar  \n",
       "0                 1             0               0        0  \n",
       "1                 1             0               0        0  \n",
       "2                 1             0               0        0  \n",
       "3                 1             0               0        0  \n",
       "4                 1             0               0        0  \n",
       "\n",
       "[5 rows x 38 columns]"
      ]
     },
     "execution_count": 3,
     "metadata": {},
     "output_type": "execute_result"
    }
   ],
   "source": [
    "data.head()"
   ]
  },
  {
   "cell_type": "markdown",
   "id": "671e2554",
   "metadata": {},
   "source": [
    "Some information about the dataset"
   ]
  },
  {
   "cell_type": "code",
   "execution_count": 4,
   "id": "14a7c1e5",
   "metadata": {},
   "outputs": [
    {
     "data": {
      "text/plain": [
       "(1436, 38)"
      ]
     },
     "execution_count": 4,
     "metadata": {},
     "output_type": "execute_result"
    }
   ],
   "source": [
    "data.shape"
   ]
  },
  {
   "cell_type": "code",
   "execution_count": 5,
   "id": "fe8465d3",
   "metadata": {},
   "outputs": [],
   "source": [
    "data = data.drop(columns=[\"Id\",\"Mfg_Month\",\"Mfg_Year\",\"Met_Color\",\"Automatic\",\"Gears\",\"Quarterly_Tax\",\"Weight\",\"BOVAG_Guarantee\",\"Guarantee_Period\",\"Airbag_1\",\"Airbag_2\",\"Airco\",\"Automatic_airco\",\"Boardcomputer\",\"CD_Player\",\"Central_Lock\",\"Powered_Windows\",\"Power_Steering\",\"Radio\",\"Mistlamps\",\"Sport_Model\",\"Backseat_Divider\",\"Metallic_Rim\",\"Radio_cassette\",\"Tow_Bar\"],axis=1)"
   ]
  },
  {
   "cell_type": "code",
   "execution_count": 6,
   "id": "b9092385",
   "metadata": {},
   "outputs": [
    {
     "data": {
      "text/html": [
       "<div>\n",
       "<style scoped>\n",
       "    .dataframe tbody tr th:only-of-type {\n",
       "        vertical-align: middle;\n",
       "    }\n",
       "\n",
       "    .dataframe tbody tr th {\n",
       "        vertical-align: top;\n",
       "    }\n",
       "\n",
       "    .dataframe thead th {\n",
       "        text-align: right;\n",
       "    }\n",
       "</style>\n",
       "<table border=\"1\" class=\"dataframe\">\n",
       "  <thead>\n",
       "    <tr style=\"text-align: right;\">\n",
       "      <th></th>\n",
       "      <th>Model</th>\n",
       "      <th>Price</th>\n",
       "      <th>Age_08_04</th>\n",
       "      <th>KM</th>\n",
       "      <th>Fuel_Type</th>\n",
       "      <th>HP</th>\n",
       "      <th>Color</th>\n",
       "      <th>cc</th>\n",
       "      <th>Doors</th>\n",
       "      <th>Cylinders</th>\n",
       "      <th>Mfr_Guarantee</th>\n",
       "      <th>ABS</th>\n",
       "    </tr>\n",
       "  </thead>\n",
       "  <tbody>\n",
       "    <tr>\n",
       "      <th>0</th>\n",
       "      <td>TOYOTA Corolla 2.0 D4D HATCHB TERRA 2/3-Doors</td>\n",
       "      <td>13500</td>\n",
       "      <td>23</td>\n",
       "      <td>46986</td>\n",
       "      <td>Diesel</td>\n",
       "      <td>90</td>\n",
       "      <td>Blue</td>\n",
       "      <td>2000</td>\n",
       "      <td>3</td>\n",
       "      <td>4</td>\n",
       "      <td>0</td>\n",
       "      <td>1</td>\n",
       "    </tr>\n",
       "    <tr>\n",
       "      <th>1</th>\n",
       "      <td>TOYOTA Corolla 2.0 D4D HATCHB TERRA 2/3-Doors</td>\n",
       "      <td>13750</td>\n",
       "      <td>23</td>\n",
       "      <td>72937</td>\n",
       "      <td>Diesel</td>\n",
       "      <td>90</td>\n",
       "      <td>Silver</td>\n",
       "      <td>2000</td>\n",
       "      <td>3</td>\n",
       "      <td>4</td>\n",
       "      <td>0</td>\n",
       "      <td>1</td>\n",
       "    </tr>\n",
       "    <tr>\n",
       "      <th>2</th>\n",
       "      <td>TOYOTA Corolla 2.0 D4D HATCHB TERRA 2/3-Doors</td>\n",
       "      <td>13950</td>\n",
       "      <td>24</td>\n",
       "      <td>41711</td>\n",
       "      <td>Diesel</td>\n",
       "      <td>90</td>\n",
       "      <td>Blue</td>\n",
       "      <td>2000</td>\n",
       "      <td>3</td>\n",
       "      <td>4</td>\n",
       "      <td>1</td>\n",
       "      <td>1</td>\n",
       "    </tr>\n",
       "    <tr>\n",
       "      <th>3</th>\n",
       "      <td>TOYOTA Corolla 2.0 D4D HATCHB TERRA 2/3-Doors</td>\n",
       "      <td>14950</td>\n",
       "      <td>26</td>\n",
       "      <td>48000</td>\n",
       "      <td>Diesel</td>\n",
       "      <td>90</td>\n",
       "      <td>Black</td>\n",
       "      <td>2000</td>\n",
       "      <td>3</td>\n",
       "      <td>4</td>\n",
       "      <td>1</td>\n",
       "      <td>1</td>\n",
       "    </tr>\n",
       "    <tr>\n",
       "      <th>4</th>\n",
       "      <td>TOYOTA Corolla 2.0 D4D HATCHB SOL 2/3-Doors</td>\n",
       "      <td>13750</td>\n",
       "      <td>30</td>\n",
       "      <td>38500</td>\n",
       "      <td>Diesel</td>\n",
       "      <td>90</td>\n",
       "      <td>Black</td>\n",
       "      <td>2000</td>\n",
       "      <td>3</td>\n",
       "      <td>4</td>\n",
       "      <td>1</td>\n",
       "      <td>1</td>\n",
       "    </tr>\n",
       "  </tbody>\n",
       "</table>\n",
       "</div>"
      ],
      "text/plain": [
       "                                            Model  Price  Age_08_04     KM  \\\n",
       "0   TOYOTA Corolla 2.0 D4D HATCHB TERRA 2/3-Doors  13500         23  46986   \n",
       "1   TOYOTA Corolla 2.0 D4D HATCHB TERRA 2/3-Doors  13750         23  72937   \n",
       "2   TOYOTA Corolla 2.0 D4D HATCHB TERRA 2/3-Doors  13950         24  41711   \n",
       "3   TOYOTA Corolla 2.0 D4D HATCHB TERRA 2/3-Doors  14950         26  48000   \n",
       "4     TOYOTA Corolla 2.0 D4D HATCHB SOL 2/3-Doors  13750         30  38500   \n",
       "\n",
       "  Fuel_Type  HP   Color    cc  Doors  Cylinders  Mfr_Guarantee  ABS  \n",
       "0    Diesel  90    Blue  2000      3          4              0    1  \n",
       "1    Diesel  90  Silver  2000      3          4              0    1  \n",
       "2    Diesel  90    Blue  2000      3          4              1    1  \n",
       "3    Diesel  90   Black  2000      3          4              1    1  \n",
       "4    Diesel  90   Black  2000      3          4              1    1  "
      ]
     },
     "execution_count": 6,
     "metadata": {},
     "output_type": "execute_result"
    }
   ],
   "source": [
    "data.head()"
   ]
  },
  {
   "cell_type": "code",
   "execution_count": 7,
   "id": "cea7310e",
   "metadata": {},
   "outputs": [
    {
     "name": "stdout",
     "output_type": "stream",
     "text": [
      "<class 'pandas.core.frame.DataFrame'>\n",
      "RangeIndex: 1436 entries, 0 to 1435\n",
      "Data columns (total 12 columns):\n",
      " #   Column         Non-Null Count  Dtype \n",
      "---  ------         --------------  ----- \n",
      " 0   Model          1436 non-null   object\n",
      " 1   Price          1436 non-null   int64 \n",
      " 2   Age_08_04      1436 non-null   int64 \n",
      " 3   KM             1436 non-null   int64 \n",
      " 4   Fuel_Type      1436 non-null   object\n",
      " 5   HP             1436 non-null   int64 \n",
      " 6   Color          1436 non-null   object\n",
      " 7   cc             1436 non-null   int64 \n",
      " 8   Doors          1436 non-null   int64 \n",
      " 9   Cylinders      1436 non-null   int64 \n",
      " 10  Mfr_Guarantee  1436 non-null   int64 \n",
      " 11  ABS            1436 non-null   int64 \n",
      "dtypes: int64(9), object(3)\n",
      "memory usage: 134.8+ KB\n"
     ]
    }
   ],
   "source": [
    "data.info()"
   ]
  },
  {
   "cell_type": "code",
   "execution_count": 8,
   "id": "aca1ae90",
   "metadata": {},
   "outputs": [
    {
     "data": {
      "text/plain": [
       "Index(['Model', 'Price', 'Age_08_04', 'KM', 'Fuel_Type', 'HP', 'Color', 'cc',\n",
       "       'Doors', 'Cylinders', 'Mfr_Guarantee', 'ABS'],\n",
       "      dtype='object')"
      ]
     },
     "execution_count": 8,
     "metadata": {},
     "output_type": "execute_result"
    }
   ],
   "source": [
    "data.columns"
   ]
  },
  {
   "cell_type": "markdown",
   "id": "1d6635f1",
   "metadata": {},
   "source": [
    "Some Statistical information about the data set"
   ]
  },
  {
   "cell_type": "code",
   "execution_count": 9,
   "id": "e9f60914",
   "metadata": {},
   "outputs": [
    {
     "data": {
      "text/html": [
       "<div>\n",
       "<style scoped>\n",
       "    .dataframe tbody tr th:only-of-type {\n",
       "        vertical-align: middle;\n",
       "    }\n",
       "\n",
       "    .dataframe tbody tr th {\n",
       "        vertical-align: top;\n",
       "    }\n",
       "\n",
       "    .dataframe thead th {\n",
       "        text-align: right;\n",
       "    }\n",
       "</style>\n",
       "<table border=\"1\" class=\"dataframe\">\n",
       "  <thead>\n",
       "    <tr style=\"text-align: right;\">\n",
       "      <th></th>\n",
       "      <th>Price</th>\n",
       "      <th>Age_08_04</th>\n",
       "      <th>KM</th>\n",
       "      <th>HP</th>\n",
       "      <th>cc</th>\n",
       "      <th>Doors</th>\n",
       "      <th>Cylinders</th>\n",
       "      <th>Mfr_Guarantee</th>\n",
       "      <th>ABS</th>\n",
       "    </tr>\n",
       "  </thead>\n",
       "  <tbody>\n",
       "    <tr>\n",
       "      <th>count</th>\n",
       "      <td>1436.000000</td>\n",
       "      <td>1436.000000</td>\n",
       "      <td>1436.000000</td>\n",
       "      <td>1436.000000</td>\n",
       "      <td>1436.00000</td>\n",
       "      <td>1436.000000</td>\n",
       "      <td>1436.0</td>\n",
       "      <td>1436.000000</td>\n",
       "      <td>1436.00000</td>\n",
       "    </tr>\n",
       "    <tr>\n",
       "      <th>mean</th>\n",
       "      <td>10730.824513</td>\n",
       "      <td>55.947075</td>\n",
       "      <td>68533.259749</td>\n",
       "      <td>101.502089</td>\n",
       "      <td>1576.85585</td>\n",
       "      <td>4.033426</td>\n",
       "      <td>4.0</td>\n",
       "      <td>0.409471</td>\n",
       "      <td>0.81337</td>\n",
       "    </tr>\n",
       "    <tr>\n",
       "      <th>std</th>\n",
       "      <td>3626.964585</td>\n",
       "      <td>18.599988</td>\n",
       "      <td>37506.448872</td>\n",
       "      <td>14.981080</td>\n",
       "      <td>424.38677</td>\n",
       "      <td>0.952677</td>\n",
       "      <td>0.0</td>\n",
       "      <td>0.491907</td>\n",
       "      <td>0.38975</td>\n",
       "    </tr>\n",
       "    <tr>\n",
       "      <th>min</th>\n",
       "      <td>4350.000000</td>\n",
       "      <td>1.000000</td>\n",
       "      <td>1.000000</td>\n",
       "      <td>69.000000</td>\n",
       "      <td>1300.00000</td>\n",
       "      <td>2.000000</td>\n",
       "      <td>4.0</td>\n",
       "      <td>0.000000</td>\n",
       "      <td>0.00000</td>\n",
       "    </tr>\n",
       "    <tr>\n",
       "      <th>25%</th>\n",
       "      <td>8450.000000</td>\n",
       "      <td>44.000000</td>\n",
       "      <td>43000.000000</td>\n",
       "      <td>90.000000</td>\n",
       "      <td>1400.00000</td>\n",
       "      <td>3.000000</td>\n",
       "      <td>4.0</td>\n",
       "      <td>0.000000</td>\n",
       "      <td>1.00000</td>\n",
       "    </tr>\n",
       "    <tr>\n",
       "      <th>50%</th>\n",
       "      <td>9900.000000</td>\n",
       "      <td>61.000000</td>\n",
       "      <td>63389.500000</td>\n",
       "      <td>110.000000</td>\n",
       "      <td>1600.00000</td>\n",
       "      <td>4.000000</td>\n",
       "      <td>4.0</td>\n",
       "      <td>0.000000</td>\n",
       "      <td>1.00000</td>\n",
       "    </tr>\n",
       "    <tr>\n",
       "      <th>75%</th>\n",
       "      <td>11950.000000</td>\n",
       "      <td>70.000000</td>\n",
       "      <td>87020.750000</td>\n",
       "      <td>110.000000</td>\n",
       "      <td>1600.00000</td>\n",
       "      <td>5.000000</td>\n",
       "      <td>4.0</td>\n",
       "      <td>1.000000</td>\n",
       "      <td>1.00000</td>\n",
       "    </tr>\n",
       "    <tr>\n",
       "      <th>max</th>\n",
       "      <td>32500.000000</td>\n",
       "      <td>80.000000</td>\n",
       "      <td>243000.000000</td>\n",
       "      <td>192.000000</td>\n",
       "      <td>16000.00000</td>\n",
       "      <td>5.000000</td>\n",
       "      <td>4.0</td>\n",
       "      <td>1.000000</td>\n",
       "      <td>1.00000</td>\n",
       "    </tr>\n",
       "  </tbody>\n",
       "</table>\n",
       "</div>"
      ],
      "text/plain": [
       "              Price    Age_08_04             KM           HP           cc  \\\n",
       "count   1436.000000  1436.000000    1436.000000  1436.000000   1436.00000   \n",
       "mean   10730.824513    55.947075   68533.259749   101.502089   1576.85585   \n",
       "std     3626.964585    18.599988   37506.448872    14.981080    424.38677   \n",
       "min     4350.000000     1.000000       1.000000    69.000000   1300.00000   \n",
       "25%     8450.000000    44.000000   43000.000000    90.000000   1400.00000   \n",
       "50%     9900.000000    61.000000   63389.500000   110.000000   1600.00000   \n",
       "75%    11950.000000    70.000000   87020.750000   110.000000   1600.00000   \n",
       "max    32500.000000    80.000000  243000.000000   192.000000  16000.00000   \n",
       "\n",
       "             Doors  Cylinders  Mfr_Guarantee         ABS  \n",
       "count  1436.000000     1436.0    1436.000000  1436.00000  \n",
       "mean      4.033426        4.0       0.409471     0.81337  \n",
       "std       0.952677        0.0       0.491907     0.38975  \n",
       "min       2.000000        4.0       0.000000     0.00000  \n",
       "25%       3.000000        4.0       0.000000     1.00000  \n",
       "50%       4.000000        4.0       0.000000     1.00000  \n",
       "75%       5.000000        4.0       1.000000     1.00000  \n",
       "max       5.000000        4.0       1.000000     1.00000  "
      ]
     },
     "execution_count": 9,
     "metadata": {},
     "output_type": "execute_result"
    }
   ],
   "source": [
    "data.describe()"
   ]
  },
  {
   "cell_type": "markdown",
   "id": "26ae5cb4",
   "metadata": {},
   "source": [
    "Check the null values in the data set\n",
    "\n",
    "No null values in the data set"
   ]
  },
  {
   "cell_type": "code",
   "execution_count": 10,
   "id": "c0c69c7a",
   "metadata": {},
   "outputs": [
    {
     "data": {
      "text/plain": [
       "Model            0\n",
       "Price            0\n",
       "Age_08_04        0\n",
       "KM               0\n",
       "Fuel_Type        0\n",
       "HP               0\n",
       "Color            0\n",
       "cc               0\n",
       "Doors            0\n",
       "Cylinders        0\n",
       "Mfr_Guarantee    0\n",
       "ABS              0\n",
       "dtype: int64"
      ]
     },
     "execution_count": 10,
     "metadata": {},
     "output_type": "execute_result"
    }
   ],
   "source": [
    "data.isnull().sum()"
   ]
  },
  {
   "cell_type": "markdown",
   "id": "5dee25ba",
   "metadata": {},
   "source": [
    "Check the outliers in the id column\n",
    "\n",
    "No outliers in the id column"
   ]
  },
  {
   "cell_type": "code",
   "execution_count": 11,
   "id": "fc7c6a09",
   "metadata": {},
   "outputs": [
    {
     "data": {
      "text/plain": [
       "array(['TOYOTA Corolla 2.0 D4D HATCHB TERRA 2/3-Doors',\n",
       "       '\\xa0TOYOTA Corolla 2.0 D4D HATCHB TERRA 2/3-Doors',\n",
       "       'TOYOTA Corolla 2.0 D4D HATCHB SOL 2/3-Doors',\n",
       "       '\\xa0TOYOTA Corolla 2.0 D4D 90 3DR TERRA 2/3-Doors',\n",
       "       'TOYOTA Corolla 2.0 D4D 90 3DR TERRA 2/3-Doors',\n",
       "       '\\xa0TOYOTA Corolla 1800 T SPORT VVT I 2/3-Doors',\n",
       "       '\\xa0TOYOTA Corolla 1.9 D HATCHB TERRA 2/3-Doors',\n",
       "       'TOYOTA Corolla 1.8 VVTL-i T-Sport 3-Drs 2/3-Doors',\n",
       "       'TOYOTA Corolla 1.8 16V VVTLI 3DR T SPORT BNS 2/3-Doors',\n",
       "       'TOYOTA Corolla 1.8 16V VVTLI 3DR T SPORT 2/3-Doors',\n",
       "       '\\xa0TOYOTA Corolla 1.8 16V VVTLI 3DR T SPORT 2/3-Doors',\n",
       "       '\\xa0TOYOTA Corolla 1.6 VVTI Linea Terra Comfort 2/3-Doors',\n",
       "       'TOYOTA Corolla 1.6 16v L.SOL 2/3-Doors',\n",
       "       'TOYOTA Corolla 1.6 16V VVT I 3DR TERRA 2/3-Doors',\n",
       "       '\\xa0TOYOTA Corolla 1.6 16V VVT I 3DR TERRA 2/3-Doors',\n",
       "       'TOYOTA Corolla 1.6 16V VVT I 3DR SOL AUT4 2/3-Doors',\n",
       "       'TOYOTA Corolla 1.6 16V VVT I 3DR SOL 2/3-Doors',\n",
       "       '\\xa0TOYOTA Corolla 1.6 16V VVT I 3DR SOL 2/3-Doors',\n",
       "       '\\xa0TOYOTA Corolla 1.4 VVTI Linea Terra 2/3-Doors',\n",
       "       'TOYOTA Corolla 1.4 16V VVT I 3DR TERRA COMFORT 2/3-Doors',\n",
       "       '\\xa0TOYOTA Corolla 1.4 16V VVT I 3DR TERRA COMFORT 2/3-Doors',\n",
       "       'TOYOTA Corolla 1.4 16V VVT I 3DR TERRA 2/3-Doors',\n",
       "       '\\xa0TOYOTA Corolla 1.4 16V VVT I 3DR 2/3-Doors',\n",
       "       'TOYOTA Corolla 1.4 16V VVT I 3DR 2/3-Doors',\n",
       "       'TOYOTA Corolla 2.0 D4D 90 5DR TERRA COMFORT 4/5-Doors',\n",
       "       '\\xa0TOYOTA Corolla 2.0 D4D 90 5DR SOL 4/5-Doors',\n",
       "       'TOYOTA Corolla 2.0 D4D 90 5DR TERRA 4/5-Doors',\n",
       "       'TOYOTA Corolla 1.4 16V VVT I 5DR TERRA COMFORT 4/5-Doors',\n",
       "       '\\xa0TOYOTA Corolla 2.0 D4D 90 5DR TERRA COMFORT 4/5-Doors',\n",
       "       'TOYOTA Corolla 1.8 16V VVTLI 5DR T SPORT 4/5-Doors',\n",
       "       '\\xa0TOYOTA Corolla 1.4 16V VVT I 5DR TERRA 4/5-Doors',\n",
       "       'TOYOTA Corolla 1.6 16V VVT I 5DR SOL AUT4 4/5-Doors',\n",
       "       'TOYOTA Corolla 1.8 VVTL-i T-Sport 4/5-Doors',\n",
       "       '\\xa0TOYOTA Corolla 1.6 16V VVT I 5DR TERRA AUT4 4/5-Doors',\n",
       "       '\\xa0TOYOTA Corolla 1.6 16V VVT I LIFTB LUNA 4/5-Doors',\n",
       "       'TOYOTA Corolla 1.4 16V VVT I 5DR TERRA 4/5-Doors',\n",
       "       '\\xa0TOYOTA Corolla 1.6 16V VVT I 5DR SOL AUT4 4/5-Doors',\n",
       "       '\\xa0TOYOTA Corolla 1.6 16V VVT I 5DR SOL 4/5-Doors',\n",
       "       'TOYOTA Corolla 1.6 16V VVT I 5DR SOL 4/5-Doors',\n",
       "       'TOYOTA Corolla 1.6 VVT-I 5DR LINEA SOL 4/5-Doors',\n",
       "       'TOYOTA Corolla 2.0 D4D 110 5DR SOL 4/5-Doors',\n",
       "       'TOYOTA Corolla 1.4 16V VVT I LIFTB TERRA 4/5-Doors',\n",
       "       '\\xa0TOYOTA Corolla 1.4 16V VVT I 5DR 4/5-Doors',\n",
       "       'TOYOTA Corolla 1.6 16V VVT I 5DR TERRA COMFORT 4/5-Doors',\n",
       "       'TOYOTA Corolla 1.6 16V VVT I 5DR TERRA 4/5-Doors',\n",
       "       'TOYOTA Corolla 1.6 5drs 1 4/5-Doors',\n",
       "       '\\xa0TOYOTA Corolla 1.4 16V VVT I 5DR TERRA COMFORT 4/5-Doors',\n",
       "       '\\xa0TOYOTA Corolla 1.4 VVTI  (Nw type) 4/5-Doors',\n",
       "       'TOYOTA Corolla 2.0 D4D 90 3DR TERRA COMF BNS 2/3-Doors',\n",
       "       'TOYOTA Corolla 2.0 D4D 110 3DR SOL 2/3-Doors',\n",
       "       '\\xa0TOYOTA Corolla 2.0 D4D 90 3DR SOL BNS 2/3-Doors',\n",
       "       'TOYOTA Corolla 2.0 D 4D Linea Sol 3 Doors 2/3-Doors',\n",
       "       'TOYOTA Corolla 1.6 16v VVT-i Linea Sol 2/3-Doors',\n",
       "       'TOYOTA Corolla 2.0 D4D Linea Sol 3 Doors 2/3-Doors',\n",
       "       'TOYOTA Corolla 1.4 VVT-i Sol 2/3-Doors',\n",
       "       'TOYOTA Corolla 1.6 16V VVT I 3DR TERRA COMFORT 2/3-Doors',\n",
       "       'TOYOTA Corolla 1.6 16V VVT I 3DR TERRA COMF AUT 2/3-Doors',\n",
       "       '\\xa0TOYOTA Corolla 1.6 VVT-i Linea Terra Comfort 2/3-Doors',\n",
       "       '\\xa0TOYOTA Corolla 1.6 16V VVT I 3DR TERRA COMFORT 2/3-Doors',\n",
       "       '\\xa0TOYOTA Corolla VERSO 2.0 D4D SOL (7) BNS MPV',\n",
       "       'TOYOTA Corolla VERSO 2.0 D4D SOL (7) MPV',\n",
       "       '\\xa0TOYOTA Corolla VERSO 2.0 D4D LINEA SOL MPV',\n",
       "       'TOYOTA Corolla VERSO 2.0 D4D LINEA SOL MPV',\n",
       "       'TOYOTA Corolla 2.0 D4D 116 5DR LUNA 4/5-Doors',\n",
       "       'TOYOTA Corolla 2.0 D4D 90 WAGON SOL Stationwagen',\n",
       "       'TOYOTA Corolla 2.0 D4D 110 5DR EXEC BNS 4/5-Doors',\n",
       "       '\\xa0TOYOTA Corolla 2.0 D4D Linea Terra Comfort 4/5-Doors',\n",
       "       '\\xa0TOYOTA Corolla 1.6 16V VVT I 5DR TERRA 4/5-Doors',\n",
       "       'TOYOTA Corolla 1.6 16V VVT I 5DR EXEC 4/5-Doors',\n",
       "       'TOYOTA Corolla 1.6 VVT-i Linea Sol 4/5-Doors',\n",
       "       'TOYOTA Corolla 1.4 16V VVT I 5DR SOL 4/5-Doors',\n",
       "       'TOYOTA Corolla 1.6 vvt-i nw model comfort airco 5drs 4/5-Doors',\n",
       "       'TOYOTA Corolla 1 6-16v VVT-i Linea Terra Comfort Airco 5drs 4/5-Doors',\n",
       "       '\\xa0TOYOTA Corolla 1.6 terra comfort 5drs airco 4/5-Doors',\n",
       "       'TOYOTA Corolla Luna 5drs D4D116 PK 4/5-Doors',\n",
       "       'TOYOTA Corolla 1.6i 16V VVT I SOL + Navigatie 4/5-Doors',\n",
       "       '\\xa0TOYOTA Corolla 1.8 VVTL-i T-Sport 3-Drs 4/5-Doors',\n",
       "       'TOYOTA Corolla 1.6 16V VVT I SEDAN TERRA COMF 4/5-Doors',\n",
       "       '\\xa0TOYOTA Corolla 1.6 16V VVT I 5DR TERRA COMF AUT 4/5-Doors',\n",
       "       'TOYOTA Corolla 1.6 16V VVT I 5DR EXEC BNS 4/5-Doors',\n",
       "       'TOYOTA Corolla 1.6 16V VVT I SEDAN SOL AUT4 4/5-Doors',\n",
       "       'TOYOTA Corolla 1.6 16V VVT I 5DR SOL BNS 4/5-Doors',\n",
       "       'TOYOTA Corolla 1.4 16V VVT I 5DR LUNA BNS 4/5-Doors',\n",
       "       '\\xa0TOYOTA Corolla 1.6 16V VVT I 5DR TERRA COMFORT 4/5-Doors',\n",
       "       'TOYOTA Corolla 1.4 16V VVT I SEDAN TERRA COMF 4/5-Doors',\n",
       "       'TOYOTA Corolla 1.6 16V VVT I SEDAN SOL 4/5-Doors',\n",
       "       '\\xa0TOYOTA Corolla 1.6 16v VVTi Linea Sol 4/5-Doors',\n",
       "       'TOYOTA Corolla 1.6 16v VVTi Terra Comfort 4/5-Doors',\n",
       "       'TOYOTA Corolla 1.6 16V VVT I SEDAN SOL BNS AUT4 4/5-Doors',\n",
       "       'TOYOTA Corolla 1.4-16v VVT-i Linea Terra Comfort NIEUW AIRCO 4/5-Doors',\n",
       "       'TOYOTA Corolla 1.6-16v VVT-i Linea Terra Comfort AIRCO NIEUW 5DRS 4/5-Doors',\n",
       "       'TOYOTA Corolla 1.6-16v VVT-i Executive B.edition 4/5-Doors',\n",
       "       'TOYOTA Corolla 1.4 16V VVT I 5DR LUNA 4/5-Doors',\n",
       "       '\\xa0TOYOTA Corolla 1.4 16V VVT I 5DR LUNA 4/5-Doors',\n",
       "       'TOYOTA Corolla 1.6 VVT-I 5DR LINEA TERRA 4/5-Doors',\n",
       "       'TOYOTA Corolla 1.4 16V 5DR TERRA 4/5-Doors',\n",
       "       '\\xa0TOYOTA Corolla 1.4-16v VVT-i Linea Terra Comfort NIEUW AIRCO 4/5-Doors',\n",
       "       'TOYOTA Corolla 1.6-16v VVT-i Linea Terra Comfort NIEUW AIRCO 5drs 4/5-Doors',\n",
       "       'TOYOTA Corolla 1.9 D HATCHB SOL 2/3-Doors',\n",
       "       'TOYOTA Corolla 2.0 D4D SEDAN SOL 4/5-Doors',\n",
       "       'TOYOTA Corolla 2.0 D4D LIFTB SOL 4/5-Doors',\n",
       "       'TOYOTA Corolla 1.6 16V VVT I HATCHB TERRA 2/3-Doors',\n",
       "       'TOYOTA Corolla 1.9 D HATCHB TERRA 2/3-Doors',\n",
       "       'TOYOTA Corolla 1.8D Stationwagen',\n",
       "       'TOYOTA Corolla 1.8D 4/5-Doors',\n",
       "       'TOYOTA Corolla 1.9 D LIFTB TERRA 4/5-Doors',\n",
       "       'TOYOTA Corolla 1.9 D WAGON TERRA Stationwagen',\n",
       "       'TOYOTA Corolla 1.6 16V VVT I LIFTB LUNA 4/5-Doors',\n",
       "       'TOYOTA Corolla 1.9 D Sedan 4/5-Doors',\n",
       "       'TOYOTA Corolla 1.4 16V VVT I HATCHB TERRA 2/3-Doors',\n",
       "       'TOYOTA Corolla 1.6 16V VVT I LIFTB TERRA 4/5-Doors',\n",
       "       'TOYOTA Corolla 1.4 VVTI Linea Terra 2/3-Doors',\n",
       "       'TOYOTA Corolla 19D LB Linea Terra 4/5-Doors',\n",
       "       'TOYOTA Corolla 1.6 16V VVT I HATCHB SOL 2/3-Doors',\n",
       "       'TOYOTA Corolla 1.6 16V VVT I LIFTB SOL 4/5-Doors',\n",
       "       'TOYOTA Corolla 1.6 16V VVT I LIFTB LUNA AUT4 4/5-Doors',\n",
       "       'TOYOTA Corolla 1.6 Terra LB 4/5-Doors',\n",
       "       'TOYOTA Corolla 1.6 HB LINEA SOL 4/5-Doors',\n",
       "       'TOYOTA Corolla 1.6 16V VVT I SEDAN TERRA 4/5-Doors',\n",
       "       'TOYOTA Corolla 1.6 16V VVT I WAGON BLUE Stationwagen',\n",
       "       'TOYOTA Corolla 1.4 16V VVT I LIFTB LUNA 4/5-Doors',\n",
       "       'TOYOTA Corolla LIFTBACK 1.6-16v Linea Luna 4/5-Doors',\n",
       "       'TOYOTA Corolla 1.4 16V VVT I HATCHB SOL 2/3-Doors',\n",
       "       'TOYOTA Corolla 1.6 VVTI Linea Terra liftback 4/5-Doors',\n",
       "       'TOYOTA Corolla 1.9 D HB SOL 2/3-Doors',\n",
       "       'TOYOTA Corolla 1.6 16V VVT I LIFTB SOL AUT4 4/5-Doors',\n",
       "       'TOYOTA Corolla 1.6 16V VVT I HATCHB G6 2/3-Doors',\n",
       "       'TOYOTA Corolla 1.6 16V HATCHB LINEA TERRA 2/3-Doors',\n",
       "       'TOYOTA Corolla 1.6 16V WAGON LINEA TERRA Stationwagen',\n",
       "       'TOYOTA Corolla 1.6 GL LB 4/5-Doors',\n",
       "       'TOYOTA Corolla 1.6 Terra 5-Doors Liftback 4/5-Doors',\n",
       "       'TOYOTA Corolla 1.6-16v Linea Terra LB 4/5-Doors',\n",
       "       'TOYOTA Corolla 1.6I Luna liftback 4/5-Doors',\n",
       "       'TOYOTA Corolla 1.6 16V VVT I WAGON TERRA Stationwagen',\n",
       "       'TOYOTA Corolla 1.6 Linea Terra Sedan 4/5-Doors',\n",
       "       'TOYOTA Corolla 1.4 VVTI L.Terra HB 4/5-Doors',\n",
       "       'TOYOTA Corolla 1.4 LB LINEA TERRA 4/5-Doors',\n",
       "       'TOYOTA Corolla 1.6 16v VVTi Terra Comfort 2/3-Doors',\n",
       "       'TOYOTA Corolla 1.6 SDN LINEA TERRA 4/5-Doors',\n",
       "       'TOYOTA Corolla 1.6 16V VVT I HATCHB G6 4/5-Doors',\n",
       "       'TOYOTA Corolla 1.6 VVTi Linea terra 4/5-Doors',\n",
       "       'TOYOTA Corolla 1.6v VVT-i Linea Sol 4/5-Doors',\n",
       "       '\\xa0TOYOTA Corolla 1.6 16V VVT I LIFTB SOL 4/5-Doors',\n",
       "       'TOYOTA Corolla 1.6I LIFTBACK 4/5-Doors',\n",
       "       'TOYOTA Corolla Liftback 1.6 VVTI 4/5-Doors',\n",
       "       'TOYOTA Corolla 1.6 16V VVT I HATCHB TERRA AUT4 2/3-Doors',\n",
       "       '\\xa0TOYOTA Corolla 1.4 16V VVT I LIFTB LUNA 4/5-Doors',\n",
       "       '\\xa0TOYOTA Corolla 1.6 16V VVT I HATCHB G6 4/5-Doors',\n",
       "       '\\xa0TOYOTA Corolla 1.6 Terra LB Comf. 4/5-Doors',\n",
       "       '\\xa0TOYOTA Corolla 1.4 16V VVT I LIFTB TERRA 4/5-Doors',\n",
       "       'TOYOTA Corolla 1.6 16V VVT I SEDAN TERRA AUT4 4/5-Doors',\n",
       "       '\\xa0TOYOTA Corolla 1.6 VVTi Terra Comfort 4/5-Doors',\n",
       "       'TOYOTA Corolla 1.3 16V LIFTB LINEA TERRA 4/5-Doors',\n",
       "       'TOYOTA Corolla 1.6 VVTI Linea Terra Comfort 4/5-Doors',\n",
       "       'TOYOTA Corolla 1.6 Linea Terra LB 4/5-Doors',\n",
       "       'TOYOTA Corolla 1.4 VVTI LB 4/5-Doors',\n",
       "       '\\xa0TOYOTA Corolla 1.9 D HATCHB SOL 2/3-Doors',\n",
       "       'TOYOTA Corolla 1.9 D SEDAN TERRA 4/5-Doors',\n",
       "       'TOYOTA Corolla 2.0 DSL SEDAN LINEA TERRA 4/5-Doors',\n",
       "       'TOYOTA Corolla 1.6 VVTi Linea terra 2/3-Doors',\n",
       "       'TOYOTA Corolla 2.0 DSL LIFTB LINEA TERRA 4/5-Doors',\n",
       "       'TOYOTA Corolla 1.9 D LIFTB LUNA 4/5-Doors',\n",
       "       'TOYOTA Corolla 1.9 D WGN LINEA TERRA Stationwagen',\n",
       "       '\\xa0TOYOTA Corolla 1.9 D SEDAN TERRA 4/5-Doors',\n",
       "       '\\xa0TOYOTA Corolla 1.6 16V VVT I HATCHB G6 2/3-Doors',\n",
       "       'TOYOTA Corolla 1.9 D LB LINEA SOL 4/5-Doors',\n",
       "       'TOYOTA Corolla 2.0D 4/5-Doors',\n",
       "       'TOYOTA Corolla 1.6 16V LIFTB LINEA LUNA 4/5-Doors',\n",
       "       'TOYOTA Corolla 1.6 16v TERRA 4/5-Doors',\n",
       "       '\\xa0TOYOTA Corolla 1.6 16V VVT I WAGON TERRA Stationwagen',\n",
       "       'TOYOTA Corolla 1.6 HB SOL 2/3-Doors',\n",
       "       '\\xa0TOYOTA Corolla 2.0 DSL HATCHB LINEA TERRA 2/3-Doors',\n",
       "       '\\xa0TOYOTA Corolla 1.3 16V HATCHB LINEA TERRA 2/3-Doors',\n",
       "       '\\xa0TOYOTA Corolla LIFTBACK 1.4 VVT-i LINEA TERRA 4/5-Doors',\n",
       "       '\\xa0TOYOTA Corolla 1.6 16V VVT I HATCHB TERRA 2/3-Doors',\n",
       "       '\\xa0TOYOTA Corolla 1.6 16V VVT I HATCHB SOL 2/3-Doors',\n",
       "       'TOYOTA Corolla 1.6 VVT-i L. Sol Wagon Stationwagen',\n",
       "       '\\xa0TOYOTA Corolla 1.6 LB LINEA SOL 4/5-Doors',\n",
       "       'TOYOTA Corolla 1.4 VVT-i Linea Sol HB 2/3-Doors',\n",
       "       '\\xa0TOYOTA Corolla 1.6 16V VVT I LIFTB TERRA 4/5-Doors',\n",
       "       '\\xa0TOYOTA Corolla 1.6 16V VVT I SEDAN TERRA 4/5-Doors',\n",
       "       'TOYOTA Corolla 1.6 G6 HB 2/3-Doors',\n",
       "       '\\xa0TOYOTA Corolla 1.6 16V VVT I SEDAN TERRA AUT4 4/5-Doors',\n",
       "       'TOYOTA Corolla 1.6 4/5-Doors',\n",
       "       '\\xa0TOYOTA Corolla 1.4 16V VVT I HATCHB SOL 2/3-Doors',\n",
       "       '\\xa0TOYOTA Corolla 1.4 16V VVT I HATCHB TERRA 2/3-Doors',\n",
       "       'TOYOTA Corolla 1.9 D Linea Terra 2/3-Doors',\n",
       "       '\\xa0TOYOTA Corolla 1.3 16V HATCHB G6 2/3-Doors',\n",
       "       'TOYOTA Corolla 1.4 16V VVT I LIFTB SOL 4/5-Doors',\n",
       "       '\\xa0TOYOTA Corolla 1.9 D LIFTB TERRA 4/5-Doors',\n",
       "       'TOYOTA Corolla 2.0 DSL HATCHB LINEA TERRA 2/3-Doors',\n",
       "       'TOYOTA Corolla 1.6 16V WAGON LINEA LUNA Stationwagen',\n",
       "       'TOYOTA Corolla 1.6 sol lb 4/5-Doors',\n",
       "       '\\xa0TOYOTA Corolla 1.6 16V HATCHB LINEA TERRA 2/3-Doors',\n",
       "       'TOYOTA Corolla 1.6 SDN LINEA SOL 4/5-Doors',\n",
       "       'TOYOTA Corolla 1.9 D Wagon Stationwagen',\n",
       "       '\\xa0TOYOTA Corolla 1.6 VVTI Linea Terra liftback 4/5-Doors',\n",
       "       'TOYOTA Corolla LIFTBACK 1.9 D Linea Terra 4/5-Doors',\n",
       "       '\\xa0TOYOTA Corolla 1.6 16V HATCHB S 2/3-Doors',\n",
       "       'TOYOTA Corolla ! 1.6-16v vvt-i sol airco sedan 4/5-Doors',\n",
       "       'TOYOTA Corolla 1.4 VVT-i Linea Luna liftback 4/5-Doors',\n",
       "       '\\xa0TOYOTA Corolla 1.6 16V LIFTB LINEA LUNA 4/5-Doors',\n",
       "       'TOYOTA Corolla 1.6 16V HATCHB S 2/3-Doors',\n",
       "       '\\xa0TOYOTA Corolla 1.6 SDN LINEA SOL 4/5-Doors',\n",
       "       'TOYOTA Corolla 1.6 VVTI Linea Sol Sedan 4/5-Doors',\n",
       "       'TOYOTA Corolla 1.6 16v Liftback Linea So 4/5-Doors',\n",
       "       'TOYOTA Corolla 1.4 HB LINEA TERRA 2/3-Doors',\n",
       "       'TOYOTA Corolla 1.6 16V LIFTB LINEA TERRA 4/5-Doors',\n",
       "       'TOYOTA Corolla 1.3 G6 liftback 4/5-Doors',\n",
       "       '\\xa0TOYOTA Corolla 1.6 HB LINEA TERRA 2/3-Doors',\n",
       "       '\\xa0TOYOTA Corolla 1.6 16V LIFTB LINEA TERRA 4/5-Doors',\n",
       "       '\\xa0TOYOTA Corolla 1.3 Linea Terra liftback 4/5-Doors',\n",
       "       '\\xa0TOYOTA Corolla LIFTBACK 1.6 Linea terra 4/5-Doors',\n",
       "       'TOYOTA Corolla 1.3 16V HATCHB G6 2/3-Doors',\n",
       "       'TOYOTA Corolla 1.6 Hatchback 2/3-Doors',\n",
       "       '\\xa0TOYOTA Corolla 1.6 VVT-i Linea Sol 4/5-Doors',\n",
       "       'TOYOTA Corolla 1.6 16V VVT I HATCHB SOL AUT4 2/3-Doors',\n",
       "       'TOYOTA Corolla 1.3 16V LIFTB G6 4/5-Doors',\n",
       "       '\\xa0TOYOTA Corolla 1.6 16V VVT I HATCHB TERRA AUT4 2/3-Doors',\n",
       "       'TOYOTA Corolla 1.6 16V HATCHB LINEA LUNA 2/3-Doors',\n",
       "       'TOYOTA Corolla 1.6 16v Liftback Linea Sol 4/5-Doors',\n",
       "       'TOYOTA Corolla 1.4 HB Terra 2/3-Doors',\n",
       "       '\\xa0TOYOTA Corolla 1.3 16V WAGON LINEA TERRA Stationwagen',\n",
       "       'TOYOTA Corolla LIFTBACK 1.4 16V VVTI TERRA 4/5-Doors',\n",
       "       '\\xa0TOYOTA Corolla 1.6 SDN LINEA TERRA 4/5-Doors',\n",
       "       '\\xa0TOYOTA Corolla 1.4 16V VVT I LIFTB SOL 4/5-Doors',\n",
       "       'TOYOTA Corolla 2.0 d HB Diesel 2/3-Doors',\n",
       "       'TOYOTA Corolla 1.4 VVT-i Terra 2/3-Doors',\n",
       "       'TOYOTA Corolla 1.3 16V SEDAN LINEA TERRA 4/5-Doors',\n",
       "       'TOYOTA Corolla 2.0 DSL LIFTB LINEA LUNA 4/5-Doors',\n",
       "       'TOYOTA Corolla 1.3 16V HATCHB LINEA TERRA 2/3-Doors',\n",
       "       'TOYOTA Corolla 1.6 Linea Terra Comfort 4/5-Doors',\n",
       "       'TOYOTA Corolla 2.0 DSL HATCHB LINEA LUNA 2/3-Doors',\n",
       "       'TOYOTA Corolla 1.6 16V HATCHB G6 2/3-Doors',\n",
       "       'TOYOTA Corolla 2.0diesel Stationwagen',\n",
       "       'TOYOTA Corolla 2.0D TERRA LIFTBACK 4/5-Doors',\n",
       "       'TOYOTA Corolla 1.6 16V G6 2/3-Doors',\n",
       "       'TOYOTA Corolla 2.0D XL Sedan 4/5-Doors',\n",
       "       'TOYOTA Corolla Sw 20D Linea Terra Stationwagen',\n",
       "       'TOYOTA Corolla 1.3 16V WAGON LINEA TERRA Stationwagen',\n",
       "       'TOYOTA Corolla 1.6 VVT-i Linea Terra Comfort 4/5-Doors',\n",
       "       'TOYOTA Corolla 1.6 16V SEDAN LINEA TERRA 4/5-Doors',\n",
       "       'TOYOTA Corolla 2.0 DSL WAGON LINEA TERRA Stationwagen',\n",
       "       'TOYOTA Corolla 1.6 16V SEDAN LINEA TERRA AUT4 4/5-Doors',\n",
       "       'TOYOTA Corolla 1.6 G6-R 2/3-Doors',\n",
       "       'TOYOTA Corolla 2.0 D Linea Terra 3d 2/3-Doors',\n",
       "       'TOYOTA Corolla 1.6 16v Liftback Linea Terra 4/5-Doors',\n",
       "       'TOYOTA Corolla 1.3 16V HATCHB LINEA LUNA 2/3-Doors',\n",
       "       'TOYOTA Corolla 1.3 16V LIFTB LINEA LUNA 4/5-Doors',\n",
       "       'TOYOTA Corolla 1.6 16V HATCHB G6 R 2/3-Doors',\n",
       "       'TOYOTA Corolla 2.0 SDN LINEA TERRA DSL 4/5-Doors',\n",
       "       'TOYOTA Corolla 1.6 Linea Luna 2/3-Doors',\n",
       "       'TOYOTA Corolla 1.6 HB LINEA LUNA AUT 2/3-Doors',\n",
       "       'TOYOTA Corolla 1.3 16V Linea Terra 2/3-Doors',\n",
       "       'TOYOTA Corolla 1.3 LIN. Terra 2/3-Doors',\n",
       "       'TOYOTA Corolla 1.3 16V WAGON LINEA LUNA Stationwagen',\n",
       "       'TOYOTA Corolla 2.0 LB LINEA TERRA D 4/5-Doors',\n",
       "       'TOYOTA Corolla 1.3 Linea Terra sedan Comf. 4/5-Doors',\n",
       "       'TOYOTA Corolla 1.6 HB Linea Luna 2/3-Doors',\n",
       "       'TOYOTA Corolla 1.6-16v Linea Terra 2/3-Doors',\n",
       "       'TOYOTA Corolla 1.6 G6R HB 2/3-Doors',\n",
       "       'TOYOTA Corolla 1.6 Linea Luna Wagon Stationwagen',\n",
       "       'TOYOTA Corolla 1.6 16V SEDAN LINEA LUNA 4/5-Doors',\n",
       "       'TOYOTA Corolla 1.3 16V LIFTB LINEA TERRA AUT3 4/5-Doors',\n",
       "       'TOYOTA Corolla 1.6 Terra HB 2/3-Doors',\n",
       "       '\\xa0TOYOTA Corolla 1.6 16v Linea Luna Stationwagen',\n",
       "       'TOYOTA Corolla 1.6 16V LIFTB LINEA TERRA AUT4 4/5-Doors',\n",
       "       'TOYOTA Corolla Linea Luna 1.6i 16V 2/3-Doors',\n",
       "       'TOYOTA Corolla 1.6 HB LINEA TERRA 2/3-Doors',\n",
       "       'TOYOTA Corolla 1.6 VVTi Linea Luna 4/5-Doors',\n",
       "       'TOYOTA Corolla 1.3 LB LINEA TERRA 4/5-Doors',\n",
       "       'TOYOTA Corolla 1.3 HB LINEA TERRA 2/3-Doors',\n",
       "       'TOYOTA Corolla 2.0 D Linea luna Wagon Stationwagen',\n",
       "       'TOYOTA Corolla 1.6 16V HATCHB LINEA LUNA AUT4 2/3-Doors',\n",
       "       'TOYOTA Corolla 1.6 LB LINEA LUNA 4/5-Doors',\n",
       "       'TOYOTA Corolla 1.6 Linea Terra HB 2/3-Doors',\n",
       "       'TOYOTA Corolla 1.3 16V 2/3-Doors',\n",
       "       'TOYOTA Corolla 1.6 16v Linea Luna 2/3-Doors',\n",
       "       'TOYOTA Corolla 1.3 16V L. TERRA COMFORT 2/3-Doors',\n",
       "       'TOYOTA Corolla 1.6 Luna Liftback 4/5-Doors',\n",
       "       'TOYOTA Corolla 1.3 16V HATCHB LINEA TERRA AUT3 2/3-Doors',\n",
       "       'TOYOTA Corolla 3drs 13i-16V 2/3-Doors',\n",
       "       'TOYOTA Corolla 1.3 16V HATCHB S 2/3-Doors',\n",
       "       'TOYOTA Corolla 1.6 16V SEDAN LINEA LUNA AUT4 4/5-Doors',\n",
       "       'TOYOTA Corolla 1.3-16V Luna 2/3-Doors',\n",
       "       'TOYOTA Corolla LIFTBACK 1.6 Linea Sol 4/5-Doors',\n",
       "       'TOYOTA Corolla 1.3 16V HATCHB LINEA LUNA AUT3 2/3-Doors',\n",
       "       'TOYOTA Corolla 1.6i Linea Terra HB 2/3-Doors',\n",
       "       'TOYOTA Corolla 1.6 HB Linea Terra 2/3-Doors',\n",
       "       'TOYOTA Corolla 1.3 16V SEDAN LINEA TERRA AUT3 4/5-Doors',\n",
       "       'TOYOTA Corolla LIFTBACK 1.3i Linea Luna Liftback 4/5-Doors',\n",
       "       'TOYOTA Corolla 1.6 VVTi Linea Luna Lift 4/5-Doors',\n",
       "       'TOYOTA Corolla 1.6 16V WAGON LINEA TERRA AUT4 Stationwagen',\n",
       "       'TOYOTA Corolla 1.6 16V HATCHB LINEA TERRA AUT4 2/3-Doors',\n",
       "       'TOYOTA Corolla 1.6 16V LIFTB LINEA LUNA AUT4 4/5-Doors',\n",
       "       'TOYOTA Corolla 1.3 Hatchback 2/3-Doors',\n",
       "       'TOYOTA Corolla 1.6 I lb luna 4/5-Doors',\n",
       "       'TOYOTA Corolla 2/3-Doors',\n",
       "       'TOYOTA Corolla LIFTBACK 1.6-16v Linea Luna 2/3-Doors',\n",
       "       'TOYOTA Corolla 1.6 linea terra 4/5-Doors',\n",
       "       'TOYOTA Corolla 1.6 Linea Luna Aut. 4/5-Doors',\n",
       "       'TOYOTA Corolla 1.3I LINEATERRA 2/3-Doors', 'TOYOTA Corolla ',\n",
       "       'TOYOTA Corolla 1.6 LL HB 4/5-Doors',\n",
       "       'TOYOTA Corolla 1.6 Linea Terra Comfort HB 2/3-Doors',\n",
       "       'TOYOTA Corolla 1.3 HB Linea Terra 2/3-Doors',\n",
       "       'TOYOTA Corolla 1.6 GTSi HB 4/5-Doors',\n",
       "       'TOYOTA Corolla 1.6 GTSi HB 2/3-Doors',\n",
       "       'TOYOTA Corolla 1.6 Lin.Terra Aut. 4/5-Doors',\n",
       "       'TOYOTA Corolla 1.6 SD TERRA 4/5-Doors',\n",
       "       'TOYOTA Corolla 1.6 16v Liftback Linea Luna 4/5-Doors',\n",
       "       'TOYOTA Corolla 1.6 LB Linea Terra 4/5-Doors',\n",
       "       'TOYOTA Corolla 1.3 Linea Terra Comfort 4/5-Doors',\n",
       "       'TOYOTA Corolla 1.6 Luna LB 4/5-Doors',\n",
       "       'TOYOTA Corolla 2.0 DSL WAGON LINEA TERRA COMM Anders',\n",
       "       'TOYOTA Corolla 1.6 LB *G3* AIRCO 4/5-Doors',\n",
       "       'TOYOTA Corolla 2.0D LINEA TERRA+airco 2/3-Doors',\n",
       "       'TOYOTA Corolla 2.0 ST WGN LINEA TERRA DSL Stationwagen',\n",
       "       'TOYOTA Corolla 1.6 3D Terra/Comf. 2/3-Doors',\n",
       "       'TOYOTA Corolla 1.6 16v Linea Terra 4/5-Doors',\n",
       "       'TOYOTA Corolla 2.0D Linea Terra 2/3-Doors',\n",
       "       'TOYOTA Corolla 2.0 DSL ',\n",
       "       'TOYOTA Corolla 2.0 D Linea Terra Liftback 4/5-Doors',\n",
       "       'TOYOTA Corolla 1.6 HB Terra 4/5-Doors',\n",
       "       'TOYOTA Corolla 1.6i-16 SPORTS TC 2/3-Doors',\n",
       "       'TOYOTA Corolla 2.0 LB LINEA TERRA DSL 4/5-Doors',\n",
       "       'TOYOTA Corolla 1.6 HATCHBACK 2/3-Doors',\n",
       "       'TOYOTA Corolla 1.6 Linea Terra / Keuze uit 700 occasions 2/3-Doors',\n",
       "       'TOYOTA Corolla 1.3 16V HATCHB 2/3-Doors',\n",
       "       'TOYOTA Corolla 1.3 Linea Terra 3 drs 2/3-Doors',\n",
       "       'TOYOTA Corolla 1.6 16V S-uitvoering 2/3-Doors',\n",
       "       'TOYOTA Corolla 1.6 LINEA TERRA 4/5-Doors',\n",
       "       'TOYOTA Corolla 1.6 Terra Stationwagen',\n",
       "       'TOYOTA Corolla 1.6 16V HATCHB GTSI 2/3-Doors',\n",
       "       'TOYOTA Corolla 1.3 Linea Luna Hatchback 2/3-Doors',\n",
       "       'TOYOTA Corolla 1.3i-16v Linea Terra 5d 4/5-Doors',\n",
       "       'TOYOTA Corolla 1.6 LB LINEA TERRA 4/5-Doors',\n",
       "       'TOYOTA Corolla 1.3 3D Linea Terra 2/3-Doors',\n",
       "       'TOYOTA Corolla 1.3 16V LB Linea Luna 4/5-Doors',\n",
       "       'TOYOTA Corolla 1.6 HB LINEA LUNA 2/3-Doors',\n",
       "       'TOYOTA Corolla LIFTBACK 1.6 Linea Terra Liftback 4/5-Doors',\n",
       "       'TOYOTA Corolla 1.6 Linea Luna 4/5-Doors',\n",
       "       'TOYOTA Corolla 1.6 Linea Terra Comfort H 2/3-Doors',\n",
       "       'TOYOTA Corolla 1.3 Linea Terra wagon Stationwagen',\n",
       "       'TOYOTA Corolla 1.6 station 1 Stationwagen',\n",
       "       'TOYOTA Corolla 1.6 Linea Terra Sd 4/5-Doors',\n",
       "       'TOYOTA Corolla 1.3 16V Linea Terra 4/5-Doors',\n",
       "       'TOYOTA Corolla LIFTBACK 1.6 Linea Luna Liftback 4/5-Doors',\n",
       "       'TOYOTA Corolla 1.3i LINEA TERRA 2/3-Doors',\n",
       "       'TOYOTA Corolla 1.3 SDN LINEA TERRA AUT 4/5-Doors',\n",
       "       'TOYOTA Corolla 1.3 16v linea terra ',\n",
       "       'TOYOTA Corolla 1.3 Linea Terra Hatchback 2/3-Doors',\n",
       "       'TOYOTA Corolla 1.6 lb aut 4/5-Doors',\n",
       "       'TOYOTA Corolla 1.6 WGN LINEA TERRA Stationwagen',\n",
       "       'TOYOTA Corolla 1.6 16V LIFTBACK LINEA LUNA 4/5-Doors',\n",
       "       'TOYOTA Corolla 1.6HB 2/3-Doors',\n",
       "       'TOYOTA Corolla Hatchback 1.6 Terra Comfort 2/3-Doors',\n",
       "       'TOYOTA Corolla 1.3 16V Linea Terra Liftb 4/5-Doors',\n",
       "       'TOYOTA Corolla 1.3 I LUNA 2/3-Doors',\n",
       "       'TOYOTA Corolla 1.6 Linea Terra Comfort 2/3-Doors',\n",
       "       'TOYOTA Corolla 1.6 16V HATCHBACK LINEA LUNA 2/3-Doors',\n",
       "       'TOYOTA Corolla LIFTBACK 1.6 Linea terra 4/5-Doors',\n",
       "       'TOYOTA Corolla 1.6 VVTi Linea Luna 2/3-Doors',\n",
       "       'TOYOTA Corolla 1.3 16V Linea Terra Liftb 2/3-Doors',\n",
       "       'TOYOTA Corolla 1.3 HB LINEA TERRA AUT Anders',\n",
       "       'TOYOTA Corolla LIFTBACK 1.3i Linea Terra Liftback 4/5-Doors',\n",
       "       'TOYOTA Corolla 1.6 LB 4/5-Doors',\n",
       "       'TOYOTA Corolla 1.6 SDN LINEA TERRA AUT 4/5-Doors',\n",
       "       'TOYOTA Corolla 1.3 HB LINEA TERRA AUT 2/3-Doors',\n",
       "       'TOYOTA Corolla 1.3 Linea Terra sedan 4/5-Doors',\n",
       "       'TOYOTA Corolla 1.6 Lin.Terra Aut. 2/3-Doors',\n",
       "       'TOYOTA Corolla 1.3 Linea Terra 4/5-Doors'], dtype=object)"
      ]
     },
     "execution_count": 11,
     "metadata": {},
     "output_type": "execute_result"
    }
   ],
   "source": [
    "data[\"Model\"].unique()"
   ]
  },
  {
   "cell_type": "code",
   "execution_count": 12,
   "id": "3c3b36f2",
   "metadata": {},
   "outputs": [
    {
     "data": {
      "text/plain": [
       "<Axes: xlabel='Model', ylabel='Count'>"
      ]
     },
     "execution_count": 12,
     "metadata": {},
     "output_type": "execute_result"
    },
    {
     "data": {
      "image/png": "[encoded data removed]",
      "text/plain": [
       "<Figure size 640x480 with 1 Axes>"
      ]
     },
     "metadata": {},
     "output_type": "display_data"
    }
   ],
   "source": [
    "sns.histplot(x=data[\"Model\"],data=data)"
   ]
  },
  {
   "cell_type": "code",
   "execution_count": 13,
   "id": "27fcdc19",
   "metadata": {},
   "outputs": [
    {
     "data": {
      "text/plain": [
       "array([13500, 13750, 13950, 14950, 12950, 16900, 18600, 21500, 20950,\n",
       "       19950, 19600, 22500, 22000, 22750, 17950, 16750, 16950, 15950,\n",
       "       16250, 17495, 15750, 15500, 14750, 19000, 15800, 21950, 20500,\n",
       "       13250, 15250, 18950, 15999, 16500, 18750, 22250, 12995, 18450,\n",
       "       16895, 14900, 17250, 15450, 16650, 17450, 16450, 18900, 18990,\n",
       "       18500, 19450, 18800, 32500, 31000, 31275, 24950, 22950, 24990,\n",
       "       17900, 19250, 16350, 21750, 15850, 23000, 19900, 23950, 24500,\n",
       "       17200, 19500, 16868, 19750, 20750, 17650, 17795, 18245, 23750,\n",
       "       18700, 21125,  6950,  9500, 11950,  7750,  4350,  4750, 11750,\n",
       "       11900,  9950, 11495, 11250, 10500, 10450, 11500, 12500, 10950,\n",
       "       11450, 11790, 12450, 11690, 12750, 11925, 12900, 11650, 10850,\n",
       "        9940, 13450, 12495, 12000, 11480, 14990, 12850, 11700, 11895,\n",
       "       13875, 12295, 13995,  9900, 11990, 10750, 11695, 11000, 12400,\n",
       "       12200, 12695, 14350, 10250,  6500,  6400,  7000,  8900,  8500,\n",
       "        8950,  9250,  9450,  8250,  4450,  9000,  5150,  7900, 10900,\n",
       "        9750, 11290, 10895, 10995,  9850,  8695, 10990,  8750,  9930,\n",
       "        9799,  9700,  9990,  9475, 10000, 10495,  9400,  9650,  9550,\n",
       "       13000, 11710,  9980, 12250, 11930, 10800, 10600,  7500,  5950,\n",
       "        6900,  5751,  7950,  6250,  8450,  7350,  9800,  7995,  8600,\n",
       "        7250,  8000,  8495,  9895,  7999,  8490,  8150,  7450,  9130,\n",
       "        8990,  8995,  9995, 10400,  8800,  7800,  8100,  8200, 10295,\n",
       "        9795, 10350,  8400,  8895,  9390,  8745,  8850,  9695,  9245,\n",
       "        5900,  6000,  5250,  4400,  6750,  6150,  5750,  5800,  5740,\n",
       "        6550,  6450,  5600,  6650,  7600,  7460,  6800,  8700,  6640,\n",
       "        8050,  7795,  6490,  6425,  6495,  6990,  7200,  7300,  9200,\n",
       "        7850,  7495,  7990,  7490,  7145,  7400,  6999,  7499,  7150,\n",
       "        5845, 10845], dtype=int64)"
      ]
     },
     "execution_count": 13,
     "metadata": {},
     "output_type": "execute_result"
    }
   ],
   "source": [
    "data[\"Price\"].unique()"
   ]
  },
  {
   "cell_type": "code",
   "execution_count": 14,
   "id": "cccc37c5",
   "metadata": {},
   "outputs": [
    {
     "data": {
      "text/plain": [
       "<Axes: xlabel='Price', ylabel='Count'>"
      ]
     },
     "execution_count": 14,
     "metadata": {},
     "output_type": "execute_result"
    },
    {
     "data": {
      "image/png": "[encoded data removed]",
      "text/plain": [
       "<Figure size 640x480 with 1 Axes>"
      ]
     },
     "metadata": {},
     "output_type": "display_data"
    }
   ],
   "source": [
    "sns.histplot(data[\"Price\"])"
   ]
  },
  {
   "cell_type": "markdown",
   "id": "accbd897",
   "metadata": {},
   "source": [
    "Check the outliers in the price column\n",
    "\n",
    " outliers in the price column"
   ]
  },
  {
   "cell_type": "code",
   "execution_count": 15,
   "id": "f93ddf9b",
   "metadata": {},
   "outputs": [
    {
     "data": {
      "text/plain": [
       "<Axes: >"
      ]
     },
     "execution_count": 15,
     "metadata": {},
     "output_type": "execute_result"
    },
    {
     "data": {
      "image/png": "[encoded data removed]",
      "text/plain": [
       "<Figure size 640x480 with 1 Axes>"
      ]
     },
     "metadata": {},
     "output_type": "display_data"
    }
   ],
   "source": [
    "sns.boxplot(data[\"Price\"])"
   ]
  },
  {
   "cell_type": "code",
   "execution_count": 16,
   "id": "f6e85a43",
   "metadata": {},
   "outputs": [
    {
     "data": {
      "text/plain": [
       "Index(['Model', 'Price', 'Age_08_04', 'KM', 'Fuel_Type', 'HP', 'Color', 'cc',\n",
       "       'Doors', 'Cylinders', 'Mfr_Guarantee', 'ABS'],\n",
       "      dtype='object')"
      ]
     },
     "execution_count": 16,
     "metadata": {},
     "output_type": "execute_result"
    }
   ],
   "source": [
    "data.columns"
   ]
  },
  {
   "cell_type": "code",
   "execution_count": 17,
   "id": "63e5a4c3",
   "metadata": {},
   "outputs": [
    {
     "data": {
      "text/plain": [
       "<Axes: xlabel='Age_08_04', ylabel='Count'>"
      ]
     },
     "execution_count": 17,
     "metadata": {},
     "output_type": "execute_result"
    },
    {
     "data": {
      "image/png": "[encoded data removed]",
      "text/plain": [
       "<Figure size 640x480 with 1 Axes>"
      ]
     },
     "metadata": {},
     "output_type": "display_data"
    }
   ],
   "source": [
    "sns.histplot(x=data[\"Age_08_04\"],data=data)"
   ]
  },
  {
   "cell_type": "markdown",
   "id": "4dd43ff9",
   "metadata": {},
   "source": [
    "Check the outliers in the column Age_08_04\n",
    "\n",
    "outliers in the Age_08_04 column"
   ]
  },
  {
   "cell_type": "code",
   "execution_count": 18,
   "id": "bf1a23bd",
   "metadata": {},
   "outputs": [
    {
     "data": {
      "text/plain": [
       "<Axes: xlabel='Age_08_04'>"
      ]
     },
     "execution_count": 18,
     "metadata": {},
     "output_type": "execute_result"
    },
    {
     "data": {
      "image/png": "[encoded data removed]",
      "text/plain": [
       "<Figure size 640x480 with 1 Axes>"
      ]
     },
     "metadata": {},
     "output_type": "display_data"
    }
   ],
   "source": [
    "sns.boxplot(x=data[\"Age_08_04\"])"
   ]
  },
  {
   "cell_type": "code",
   "execution_count": 19,
   "id": "0464ade5",
   "metadata": {},
   "outputs": [
    {
     "data": {
      "text/plain": [
       "<Axes: xlabel='KM', ylabel='Count'>"
      ]
     },
     "execution_count": 19,
     "metadata": {},
     "output_type": "execute_result"
    },
    {
     "data": {
      "image/png": "[encoded data removed]",
      "text/plain": [
       "<Figure size 640x480 with 1 Axes>"
      ]
     },
     "metadata": {},
     "output_type": "display_data"
    }
   ],
   "source": [
    "sns.histplot(x=data[\"KM\"],data=data)"
   ]
  },
  {
   "cell_type": "markdown",
   "id": "afebd559",
   "metadata": {},
   "source": [
    "Check the outliers in the KM column\n",
    "\n",
    "Outliers in the KM column"
   ]
  },
  {
   "cell_type": "code",
   "execution_count": 20,
   "id": "fd0d044b",
   "metadata": {},
   "outputs": [
    {
     "data": {
      "text/plain": [
       "<Axes: xlabel='KM'>"
      ]
     },
     "execution_count": 20,
     "metadata": {},
     "output_type": "execute_result"
    },
    {
     "data": {
      "image/png": "[encoded data removed]",
      "text/plain": [
       "<Figure size 640x480 with 1 Axes>"
      ]
     },
     "metadata": {},
     "output_type": "display_data"
    }
   ],
   "source": [
    "sns.boxplot(x=data[\"KM\"])"
   ]
  },
  {
   "cell_type": "code",
   "execution_count": 21,
   "id": "f97693f4",
   "metadata": {},
   "outputs": [
    {
     "data": {
      "text/html": [
       "<div>\n",
       "<style scoped>\n",
       "    .dataframe tbody tr th:only-of-type {\n",
       "        vertical-align: middle;\n",
       "    }\n",
       "\n",
       "    .dataframe tbody tr th {\n",
       "        vertical-align: top;\n",
       "    }\n",
       "\n",
       "    .dataframe thead th {\n",
       "        text-align: right;\n",
       "    }\n",
       "</style>\n",
       "<table border=\"1\" class=\"dataframe\">\n",
       "  <thead>\n",
       "    <tr style=\"text-align: right;\">\n",
       "      <th></th>\n",
       "      <th>Model</th>\n",
       "      <th>Price</th>\n",
       "      <th>Age_08_04</th>\n",
       "      <th>KM</th>\n",
       "      <th>Fuel_Type</th>\n",
       "      <th>HP</th>\n",
       "      <th>Color</th>\n",
       "      <th>cc</th>\n",
       "      <th>Doors</th>\n",
       "      <th>Cylinders</th>\n",
       "      <th>Mfr_Guarantee</th>\n",
       "      <th>ABS</th>\n",
       "    </tr>\n",
       "  </thead>\n",
       "  <tbody>\n",
       "    <tr>\n",
       "      <th>0</th>\n",
       "      <td>TOYOTA Corolla 2.0 D4D HATCHB TERRA 2/3-Doors</td>\n",
       "      <td>13500</td>\n",
       "      <td>23</td>\n",
       "      <td>46986</td>\n",
       "      <td>Diesel</td>\n",
       "      <td>90</td>\n",
       "      <td>Blue</td>\n",
       "      <td>2000</td>\n",
       "      <td>3</td>\n",
       "      <td>4</td>\n",
       "      <td>0</td>\n",
       "      <td>1</td>\n",
       "    </tr>\n",
       "    <tr>\n",
       "      <th>1</th>\n",
       "      <td>TOYOTA Corolla 2.0 D4D HATCHB TERRA 2/3-Doors</td>\n",
       "      <td>13750</td>\n",
       "      <td>23</td>\n",
       "      <td>72937</td>\n",
       "      <td>Diesel</td>\n",
       "      <td>90</td>\n",
       "      <td>Silver</td>\n",
       "      <td>2000</td>\n",
       "      <td>3</td>\n",
       "      <td>4</td>\n",
       "      <td>0</td>\n",
       "      <td>1</td>\n",
       "    </tr>\n",
       "    <tr>\n",
       "      <th>2</th>\n",
       "      <td>TOYOTA Corolla 2.0 D4D HATCHB TERRA 2/3-Doors</td>\n",
       "      <td>13950</td>\n",
       "      <td>24</td>\n",
       "      <td>41711</td>\n",
       "      <td>Diesel</td>\n",
       "      <td>90</td>\n",
       "      <td>Blue</td>\n",
       "      <td>2000</td>\n",
       "      <td>3</td>\n",
       "      <td>4</td>\n",
       "      <td>1</td>\n",
       "      <td>1</td>\n",
       "    </tr>\n",
       "    <tr>\n",
       "      <th>3</th>\n",
       "      <td>TOYOTA Corolla 2.0 D4D HATCHB TERRA 2/3-Doors</td>\n",
       "      <td>14950</td>\n",
       "      <td>26</td>\n",
       "      <td>48000</td>\n",
       "      <td>Diesel</td>\n",
       "      <td>90</td>\n",
       "      <td>Black</td>\n",
       "      <td>2000</td>\n",
       "      <td>3</td>\n",
       "      <td>4</td>\n",
       "      <td>1</td>\n",
       "      <td>1</td>\n",
       "    </tr>\n",
       "    <tr>\n",
       "      <th>4</th>\n",
       "      <td>TOYOTA Corolla 2.0 D4D HATCHB SOL 2/3-Doors</td>\n",
       "      <td>13750</td>\n",
       "      <td>30</td>\n",
       "      <td>38500</td>\n",
       "      <td>Diesel</td>\n",
       "      <td>90</td>\n",
       "      <td>Black</td>\n",
       "      <td>2000</td>\n",
       "      <td>3</td>\n",
       "      <td>4</td>\n",
       "      <td>1</td>\n",
       "      <td>1</td>\n",
       "    </tr>\n",
       "  </tbody>\n",
       "</table>\n",
       "</div>"
      ],
      "text/plain": [
       "                                            Model  Price  Age_08_04     KM  \\\n",
       "0   TOYOTA Corolla 2.0 D4D HATCHB TERRA 2/3-Doors  13500         23  46986   \n",
       "1   TOYOTA Corolla 2.0 D4D HATCHB TERRA 2/3-Doors  13750         23  72937   \n",
       "2   TOYOTA Corolla 2.0 D4D HATCHB TERRA 2/3-Doors  13950         24  41711   \n",
       "3   TOYOTA Corolla 2.0 D4D HATCHB TERRA 2/3-Doors  14950         26  48000   \n",
       "4     TOYOTA Corolla 2.0 D4D HATCHB SOL 2/3-Doors  13750         30  38500   \n",
       "\n",
       "  Fuel_Type  HP   Color    cc  Doors  Cylinders  Mfr_Guarantee  ABS  \n",
       "0    Diesel  90    Blue  2000      3          4              0    1  \n",
       "1    Diesel  90  Silver  2000      3          4              0    1  \n",
       "2    Diesel  90    Blue  2000      3          4              1    1  \n",
       "3    Diesel  90   Black  2000      3          4              1    1  \n",
       "4    Diesel  90   Black  2000      3          4              1    1  "
      ]
     },
     "execution_count": 21,
     "metadata": {},
     "output_type": "execute_result"
    }
   ],
   "source": [
    "data.head()"
   ]
  },
  {
   "cell_type": "code",
   "execution_count": 22,
   "id": "8a665f4b",
   "metadata": {},
   "outputs": [
    {
     "data": {
      "text/plain": [
       "<Axes: xlabel='Fuel_Type', ylabel='count'>"
      ]
     },
     "execution_count": 22,
     "metadata": {},
     "output_type": "execute_result"
    },
    {
     "data": {
      "image/png": "[encoded data removed]",
      "text/plain": [
       "<Figure size 640x480 with 1 Axes>"
      ]
     },
     "metadata": {},
     "output_type": "display_data"
    }
   ],
   "source": [
    "sns.countplot(x=data[\"Fuel_Type\"],data=data)"
   ]
  },
  {
   "cell_type": "code",
   "execution_count": 23,
   "id": "65887e9e",
   "metadata": {},
   "outputs": [
    {
     "data": {
      "text/plain": [
       "<Axes: xlabel='HP', ylabel='count'>"
      ]
     },
     "execution_count": 23,
     "metadata": {},
     "output_type": "execute_result"
    },
    {
     "data": {
      "image/png": "[encoded data removed]",
      "text/plain": [
       "<Figure size 640x480 with 1 Axes>"
      ]
     },
     "metadata": {},
     "output_type": "display_data"
    }
   ],
   "source": [
    "sns.countplot(x=data[\"HP\"],data=data)"
   ]
  },
  {
   "cell_type": "markdown",
   "id": "cd071d68",
   "metadata": {},
   "source": [
    "Check the outliers in the HP column\n",
    "\n",
    "outliers in the HP column"
   ]
  },
  {
   "cell_type": "code",
   "execution_count": 24,
   "id": "1a7d092c",
   "metadata": {},
   "outputs": [
    {
     "data": {
      "text/plain": [
       "<Axes: xlabel='HP'>"
      ]
     },
     "execution_count": 24,
     "metadata": {},
     "output_type": "execute_result"
    },
    {
     "data": {
      "image/png": "[encoded data removed]",
      "text/plain": [
       "<Figure size 640x480 with 1 Axes>"
      ]
     },
     "metadata": {},
     "output_type": "display_data"
    }
   ],
   "source": [
    "sns.boxplot(x=data[\"HP\"])"
   ]
  },
  {
   "cell_type": "code",
   "execution_count": 25,
   "id": "cb0e89a8",
   "metadata": {},
   "outputs": [
    {
     "data": {
      "text/plain": [
       "<Axes: xlabel='cc', ylabel='count'>"
      ]
     },
     "execution_count": 25,
     "metadata": {},
     "output_type": "execute_result"
    },
    {
     "data": {
      "image/png": "[encoded data removed]",
      "text/plain": [
       "<Figure size 640x480 with 1 Axes>"
      ]
     },
     "metadata": {},
     "output_type": "display_data"
    }
   ],
   "source": [
    "sns.countplot(x=data[\"cc\"],data=data)"
   ]
  },
  {
   "cell_type": "markdown",
   "id": "1df96622",
   "metadata": {},
   "source": [
    "Check the outliers in the cc column\n",
    "\n",
    "Outlires in the cc column"
   ]
  },
  {
   "cell_type": "code",
   "execution_count": 26,
   "id": "96925cfc",
   "metadata": {},
   "outputs": [
    {
     "data": {
      "text/plain": [
       "<Axes: xlabel='cc'>"
      ]
     },
     "execution_count": 26,
     "metadata": {},
     "output_type": "execute_result"
    },
    {
     "data": {
      "image/png": "[encoded data removed]",
      "text/plain": [
       "<Figure size 640x480 with 1 Axes>"
      ]
     },
     "metadata": {},
     "output_type": "display_data"
    }
   ],
   "source": [
    "sns.boxplot(x=data[\"cc\"])"
   ]
  },
  {
   "cell_type": "code",
   "execution_count": 27,
   "id": "eb718d0a",
   "metadata": {},
   "outputs": [
    {
     "data": {
      "text/plain": [
       "<Axes: xlabel='Doors', ylabel='count'>"
      ]
     },
     "execution_count": 27,
     "metadata": {},
     "output_type": "execute_result"
    },
    {
     "data": {
      "image/png": "[encoded data removed]",
      "text/plain": [
       "<Figure size 640x480 with 1 Axes>"
      ]
     },
     "metadata": {},
     "output_type": "display_data"
    }
   ],
   "source": [
    "sns.countplot(x=data[\"Doors\"],data=data)"
   ]
  },
  {
   "cell_type": "markdown",
   "id": "f4826180",
   "metadata": {},
   "source": [
    "Check the outliers in the Doors column\n",
    "\n",
    "No outliers in the Door column"
   ]
  },
  {
   "cell_type": "code",
   "execution_count": 28,
   "id": "e99f0dc9",
   "metadata": {},
   "outputs": [
    {
     "data": {
      "text/plain": [
       "<Axes: xlabel='Doors'>"
      ]
     },
     "execution_count": 28,
     "metadata": {},
     "output_type": "execute_result"
    },
    {
     "data": {
      "image/png": "[encoded data removed]",
      "text/plain": [
       "<Figure size 640x480 with 1 Axes>"
      ]
     },
     "metadata": {},
     "output_type": "display_data"
    }
   ],
   "source": [
    "sns.boxplot(x=data[\"Doors\"])"
   ]
  },
  {
   "cell_type": "code",
   "execution_count": 29,
   "id": "f247f569",
   "metadata": {},
   "outputs": [
    {
     "data": {
      "text/plain": [
       "<Axes: xlabel='Cylinders', ylabel='count'>"
      ]
     },
     "execution_count": 29,
     "metadata": {},
     "output_type": "execute_result"
    },
    {
     "data": {
      "image/png": "[encoded data removed]",
      "text/plain": [
       "<Figure size 640x480 with 1 Axes>"
      ]
     },
     "metadata": {},
     "output_type": "display_data"
    }
   ],
   "source": [
    "sns.countplot(x=data[\"Cylinders\"],data=data)"
   ]
  },
  {
   "cell_type": "markdown",
   "id": "158517ba",
   "metadata": {},
   "source": [
    "Check the outliers in the Cylinder column\n",
    "\n",
    "Nooutliers in the Cylinder column"
   ]
  },
  {
   "cell_type": "code",
   "execution_count": 31,
   "id": "5628a767",
   "metadata": {},
   "outputs": [
    {
     "data": {
      "text/plain": [
       "<Axes: xlabel='Cylinders'>"
      ]
     },
     "execution_count": 31,
     "metadata": {},
     "output_type": "execute_result"
    },
    {
     "data": {
      "image/png": "[encoded data removed]",
      "text/plain": [
       "<Figure size 640x480 with 1 Axes>"
      ]
     },
     "metadata": {},
     "output_type": "display_data"
    }
   ],
   "source": [
    "sns.boxplot(x=data[\"Cylinders\"])"
   ]
  },
  {
   "cell_type": "code",
   "execution_count": 32,
   "id": "addad3f3",
   "metadata": {},
   "outputs": [
    {
     "data": {
      "text/html": [
       "<div>\n",
       "<style scoped>\n",
       "    .dataframe tbody tr th:only-of-type {\n",
       "        vertical-align: middle;\n",
       "    }\n",
       "\n",
       "    .dataframe tbody tr th {\n",
       "        vertical-align: top;\n",
       "    }\n",
       "\n",
       "    .dataframe thead th {\n",
       "        text-align: right;\n",
       "    }\n",
       "</style>\n",
       "<table border=\"1\" class=\"dataframe\">\n",
       "  <thead>\n",
       "    <tr style=\"text-align: right;\">\n",
       "      <th></th>\n",
       "      <th>Model</th>\n",
       "      <th>Price</th>\n",
       "      <th>Age_08_04</th>\n",
       "      <th>KM</th>\n",
       "      <th>Fuel_Type</th>\n",
       "      <th>HP</th>\n",
       "      <th>Color</th>\n",
       "      <th>cc</th>\n",
       "      <th>Doors</th>\n",
       "      <th>Cylinders</th>\n",
       "      <th>Mfr_Guarantee</th>\n",
       "      <th>ABS</th>\n",
       "    </tr>\n",
       "  </thead>\n",
       "  <tbody>\n",
       "    <tr>\n",
       "      <th>0</th>\n",
       "      <td>TOYOTA Corolla 2.0 D4D HATCHB TERRA 2/3-Doors</td>\n",
       "      <td>13500</td>\n",
       "      <td>23</td>\n",
       "      <td>46986</td>\n",
       "      <td>Diesel</td>\n",
       "      <td>90</td>\n",
       "      <td>Blue</td>\n",
       "      <td>2000</td>\n",
       "      <td>3</td>\n",
       "      <td>4</td>\n",
       "      <td>0</td>\n",
       "      <td>1</td>\n",
       "    </tr>\n",
       "    <tr>\n",
       "      <th>1</th>\n",
       "      <td>TOYOTA Corolla 2.0 D4D HATCHB TERRA 2/3-Doors</td>\n",
       "      <td>13750</td>\n",
       "      <td>23</td>\n",
       "      <td>72937</td>\n",
       "      <td>Diesel</td>\n",
       "      <td>90</td>\n",
       "      <td>Silver</td>\n",
       "      <td>2000</td>\n",
       "      <td>3</td>\n",
       "      <td>4</td>\n",
       "      <td>0</td>\n",
       "      <td>1</td>\n",
       "    </tr>\n",
       "    <tr>\n",
       "      <th>2</th>\n",
       "      <td>TOYOTA Corolla 2.0 D4D HATCHB TERRA 2/3-Doors</td>\n",
       "      <td>13950</td>\n",
       "      <td>24</td>\n",
       "      <td>41711</td>\n",
       "      <td>Diesel</td>\n",
       "      <td>90</td>\n",
       "      <td>Blue</td>\n",
       "      <td>2000</td>\n",
       "      <td>3</td>\n",
       "      <td>4</td>\n",
       "      <td>1</td>\n",
       "      <td>1</td>\n",
       "    </tr>\n",
       "    <tr>\n",
       "      <th>3</th>\n",
       "      <td>TOYOTA Corolla 2.0 D4D HATCHB TERRA 2/3-Doors</td>\n",
       "      <td>14950</td>\n",
       "      <td>26</td>\n",
       "      <td>48000</td>\n",
       "      <td>Diesel</td>\n",
       "      <td>90</td>\n",
       "      <td>Black</td>\n",
       "      <td>2000</td>\n",
       "      <td>3</td>\n",
       "      <td>4</td>\n",
       "      <td>1</td>\n",
       "      <td>1</td>\n",
       "    </tr>\n",
       "    <tr>\n",
       "      <th>4</th>\n",
       "      <td>TOYOTA Corolla 2.0 D4D HATCHB SOL 2/3-Doors</td>\n",
       "      <td>13750</td>\n",
       "      <td>30</td>\n",
       "      <td>38500</td>\n",
       "      <td>Diesel</td>\n",
       "      <td>90</td>\n",
       "      <td>Black</td>\n",
       "      <td>2000</td>\n",
       "      <td>3</td>\n",
       "      <td>4</td>\n",
       "      <td>1</td>\n",
       "      <td>1</td>\n",
       "    </tr>\n",
       "  </tbody>\n",
       "</table>\n",
       "</div>"
      ],
      "text/plain": [
       "                                            Model  Price  Age_08_04     KM  \\\n",
       "0   TOYOTA Corolla 2.0 D4D HATCHB TERRA 2/3-Doors  13500         23  46986   \n",
       "1   TOYOTA Corolla 2.0 D4D HATCHB TERRA 2/3-Doors  13750         23  72937   \n",
       "2   TOYOTA Corolla 2.0 D4D HATCHB TERRA 2/3-Doors  13950         24  41711   \n",
       "3   TOYOTA Corolla 2.0 D4D HATCHB TERRA 2/3-Doors  14950         26  48000   \n",
       "4     TOYOTA Corolla 2.0 D4D HATCHB SOL 2/3-Doors  13750         30  38500   \n",
       "\n",
       "  Fuel_Type  HP   Color    cc  Doors  Cylinders  Mfr_Guarantee  ABS  \n",
       "0    Diesel  90    Blue  2000      3          4              0    1  \n",
       "1    Diesel  90  Silver  2000      3          4              0    1  \n",
       "2    Diesel  90    Blue  2000      3          4              1    1  \n",
       "3    Diesel  90   Black  2000      3          4              1    1  \n",
       "4    Diesel  90   Black  2000      3          4              1    1  "
      ]
     },
     "execution_count": 32,
     "metadata": {},
     "output_type": "execute_result"
    }
   ],
   "source": [
    "data.head()"
   ]
  },
  {
   "cell_type": "code",
   "execution_count": 33,
   "id": "f88a3db8",
   "metadata": {},
   "outputs": [
    {
     "data": {
      "text/plain": [
       "<Axes: xlabel='Mfr_Guarantee', ylabel='count'>"
      ]
     },
     "execution_count": 33,
     "metadata": {},
     "output_type": "execute_result"
    },
    {
     "data": {
      "image/png": "[encoded data removed]",
      "text/plain": [
       "<Figure size 640x480 with 1 Axes>"
      ]
     },
     "metadata": {},
     "output_type": "display_data"
    }
   ],
   "source": [
    "sns.countplot(x=data[\"Mfr_Guarantee\"],data=data)"
   ]
  },
  {
   "cell_type": "markdown",
   "id": "ec4c4d56",
   "metadata": {},
   "source": [
    "Check the outliers in the Mfr_Guarantee column\n",
    "\n",
    "No outliers in the Mfr_Guarantee column"
   ]
  },
  {
   "cell_type": "code",
   "execution_count": 35,
   "id": "a6f21921",
   "metadata": {},
   "outputs": [
    {
     "data": {
      "text/plain": [
       "<Axes: xlabel='Mfr_Guarantee'>"
      ]
     },
     "execution_count": 35,
     "metadata": {},
     "output_type": "execute_result"
    },
    {
     "data": {
      "image/png": "[encoded data removed]",
      "text/plain": [
       "<Figure size 640x480 with 1 Axes>"
      ]
     },
     "metadata": {},
     "output_type": "display_data"
    }
   ],
   "source": [
    "sns.boxplot(x=data[\"Mfr_Guarantee\"],data=data)"
   ]
  },
  {
   "cell_type": "code",
   "execution_count": 36,
   "id": "7a0b2718",
   "metadata": {},
   "outputs": [
    {
     "data": {
      "text/plain": [
       "<Axes: xlabel='ABS', ylabel='count'>"
      ]
     },
     "execution_count": 36,
     "metadata": {},
     "output_type": "execute_result"
    },
    {
     "data": {
      "image/png": "[encoded data removed]",
      "text/plain": [
       "<Figure size 640x480 with 1 Axes>"
      ]
     },
     "metadata": {},
     "output_type": "display_data"
    }
   ],
   "source": [
    "sns.countplot(x=data[\"ABS\"],data=data)"
   ]
  },
  {
   "cell_type": "markdown",
   "id": "24fadbb8",
   "metadata": {},
   "source": [
    "Check the outliers in the ABS column\n",
    "\n",
    "Outlier in the ABS column"
   ]
  },
  {
   "cell_type": "code",
   "execution_count": 38,
   "id": "613f48f2",
   "metadata": {},
   "outputs": [
    {
     "data": {
      "text/plain": [
       "<Axes: xlabel='ABS'>"
      ]
     },
     "execution_count": 38,
     "metadata": {},
     "output_type": "execute_result"
    },
    {
     "data": {
      "image/png": "[encoded data removed]",
      "text/plain": [
       "<Figure size 640x480 with 1 Axes>"
      ]
     },
     "metadata": {},
     "output_type": "display_data"
    }
   ],
   "source": [
    "sns.boxplot(x=data[\"ABS\"],data=data)"
   ]
  },
  {
   "cell_type": "markdown",
   "id": "f33f7634",
   "metadata": {},
   "source": [
    "Correlations "
   ]
  },
  {
   "cell_type": "code",
   "execution_count": 39,
   "id": "439f1a1e",
   "metadata": {},
   "outputs": [
    {
     "name": "stderr",
     "output_type": "stream",
     "text": [
      "C:\\Users\\MD SUHAIL MALIK\\AppData\\Local\\Temp\\ipykernel_21096\\2627137660.py:1: FutureWarning: The default value of numeric_only in DataFrame.corr is deprecated. In a future version, it will default to False. Select only valid columns or specify the value of numeric_only to silence this warning.\n",
      "  data.corr()\n"
     ]
    },
    {
     "data": {
      "text/html": [
       "<div>\n",
       "<style scoped>\n",
       "    .dataframe tbody tr th:only-of-type {\n",
       "        vertical-align: middle;\n",
       "    }\n",
       "\n",
       "    .dataframe tbody tr th {\n",
       "        vertical-align: top;\n",
       "    }\n",
       "\n",
       "    .dataframe thead th {\n",
       "        text-align: right;\n",
       "    }\n",
       "</style>\n",
       "<table border=\"1\" class=\"dataframe\">\n",
       "  <thead>\n",
       "    <tr style=\"text-align: right;\">\n",
       "      <th></th>\n",
       "      <th>Price</th>\n",
       "      <th>Age_08_04</th>\n",
       "      <th>KM</th>\n",
       "      <th>HP</th>\n",
       "      <th>cc</th>\n",
       "      <th>Doors</th>\n",
       "      <th>Cylinders</th>\n",
       "      <th>Mfr_Guarantee</th>\n",
       "      <th>ABS</th>\n",
       "    </tr>\n",
       "  </thead>\n",
       "  <tbody>\n",
       "    <tr>\n",
       "      <th>Price</th>\n",
       "      <td>1.000000</td>\n",
       "      <td>-0.876590</td>\n",
       "      <td>-0.569960</td>\n",
       "      <td>0.314990</td>\n",
       "      <td>0.126389</td>\n",
       "      <td>0.185326</td>\n",
       "      <td>NaN</td>\n",
       "      <td>0.197802</td>\n",
       "      <td>0.306138</td>\n",
       "    </tr>\n",
       "    <tr>\n",
       "      <th>Age_08_04</th>\n",
       "      <td>-0.876590</td>\n",
       "      <td>1.000000</td>\n",
       "      <td>0.505672</td>\n",
       "      <td>-0.156622</td>\n",
       "      <td>-0.098084</td>\n",
       "      <td>-0.148359</td>\n",
       "      <td>NaN</td>\n",
       "      <td>-0.164658</td>\n",
       "      <td>-0.412887</td>\n",
       "    </tr>\n",
       "    <tr>\n",
       "      <th>KM</th>\n",
       "      <td>-0.569960</td>\n",
       "      <td>0.505672</td>\n",
       "      <td>1.000000</td>\n",
       "      <td>-0.333538</td>\n",
       "      <td>0.102683</td>\n",
       "      <td>-0.036197</td>\n",
       "      <td>NaN</td>\n",
       "      <td>-0.212851</td>\n",
       "      <td>-0.177203</td>\n",
       "    </tr>\n",
       "    <tr>\n",
       "      <th>HP</th>\n",
       "      <td>0.314990</td>\n",
       "      <td>-0.156622</td>\n",
       "      <td>-0.333538</td>\n",
       "      <td>1.000000</td>\n",
       "      <td>0.035856</td>\n",
       "      <td>0.092424</td>\n",
       "      <td>NaN</td>\n",
       "      <td>0.140026</td>\n",
       "      <td>0.057832</td>\n",
       "    </tr>\n",
       "    <tr>\n",
       "      <th>cc</th>\n",
       "      <td>0.126389</td>\n",
       "      <td>-0.098084</td>\n",
       "      <td>0.102683</td>\n",
       "      <td>0.035856</td>\n",
       "      <td>1.000000</td>\n",
       "      <td>0.079903</td>\n",
       "      <td>NaN</td>\n",
       "      <td>-0.057407</td>\n",
       "      <td>0.037806</td>\n",
       "    </tr>\n",
       "    <tr>\n",
       "      <th>Doors</th>\n",
       "      <td>0.185326</td>\n",
       "      <td>-0.148359</td>\n",
       "      <td>-0.036197</td>\n",
       "      <td>0.092424</td>\n",
       "      <td>0.079903</td>\n",
       "      <td>1.000000</td>\n",
       "      <td>NaN</td>\n",
       "      <td>0.037689</td>\n",
       "      <td>0.063733</td>\n",
       "    </tr>\n",
       "    <tr>\n",
       "      <th>Cylinders</th>\n",
       "      <td>NaN</td>\n",
       "      <td>NaN</td>\n",
       "      <td>NaN</td>\n",
       "      <td>NaN</td>\n",
       "      <td>NaN</td>\n",
       "      <td>NaN</td>\n",
       "      <td>NaN</td>\n",
       "      <td>NaN</td>\n",
       "      <td>NaN</td>\n",
       "    </tr>\n",
       "    <tr>\n",
       "      <th>Mfr_Guarantee</th>\n",
       "      <td>0.197802</td>\n",
       "      <td>-0.164658</td>\n",
       "      <td>-0.212851</td>\n",
       "      <td>0.140026</td>\n",
       "      <td>-0.057407</td>\n",
       "      <td>0.037689</td>\n",
       "      <td>NaN</td>\n",
       "      <td>1.000000</td>\n",
       "      <td>0.118996</td>\n",
       "    </tr>\n",
       "    <tr>\n",
       "      <th>ABS</th>\n",
       "      <td>0.306138</td>\n",
       "      <td>-0.412887</td>\n",
       "      <td>-0.177203</td>\n",
       "      <td>0.057832</td>\n",
       "      <td>0.037806</td>\n",
       "      <td>0.063733</td>\n",
       "      <td>NaN</td>\n",
       "      <td>0.118996</td>\n",
       "      <td>1.000000</td>\n",
       "    </tr>\n",
       "  </tbody>\n",
       "</table>\n",
       "</div>"
      ],
      "text/plain": [
       "                  Price  Age_08_04        KM        HP        cc     Doors  \\\n",
       "Price          1.000000  -0.876590 -0.569960  0.314990  0.126389  0.185326   \n",
       "Age_08_04     -0.876590   1.000000  0.505672 -0.156622 -0.098084 -0.148359   \n",
       "KM            -0.569960   0.505672  1.000000 -0.333538  0.102683 -0.036197   \n",
       "HP             0.314990  -0.156622 -0.333538  1.000000  0.035856  0.092424   \n",
       "cc             0.126389  -0.098084  0.102683  0.035856  1.000000  0.079903   \n",
       "Doors          0.185326  -0.148359 -0.036197  0.092424  0.079903  1.000000   \n",
       "Cylinders           NaN        NaN       NaN       NaN       NaN       NaN   \n",
       "Mfr_Guarantee  0.197802  -0.164658 -0.212851  0.140026 -0.057407  0.037689   \n",
       "ABS            0.306138  -0.412887 -0.177203  0.057832  0.037806  0.063733   \n",
       "\n",
       "               Cylinders  Mfr_Guarantee       ABS  \n",
       "Price                NaN       0.197802  0.306138  \n",
       "Age_08_04            NaN      -0.164658 -0.412887  \n",
       "KM                   NaN      -0.212851 -0.177203  \n",
       "HP                   NaN       0.140026  0.057832  \n",
       "cc                   NaN      -0.057407  0.037806  \n",
       "Doors                NaN       0.037689  0.063733  \n",
       "Cylinders            NaN            NaN       NaN  \n",
       "Mfr_Guarantee        NaN       1.000000  0.118996  \n",
       "ABS                  NaN       0.118996  1.000000  "
      ]
     },
     "execution_count": 39,
     "metadata": {},
     "output_type": "execute_result"
    }
   ],
   "source": [
    "data.corr()"
   ]
  },
  {
   "cell_type": "code",
   "execution_count": 40,
   "id": "bc7bcd06",
   "metadata": {},
   "outputs": [
    {
     "name": "stderr",
     "output_type": "stream",
     "text": [
      "C:\\Users\\MD SUHAIL MALIK\\AppData\\Local\\Temp\\ipykernel_21096\\3284826886.py:1: FutureWarning: The default value of numeric_only in DataFrame.corr is deprecated. In a future version, it will default to False. Select only valid columns or specify the value of numeric_only to silence this warning.\n",
      "  sns.heatmap(data.corr(),vmin=-1,annot=True)\n"
     ]
    },
    {
     "data": {
      "text/plain": [
       "<Axes: >"
      ]
     },
     "execution_count": 40,
     "metadata": {},
     "output_type": "execute_result"
    },
    {
     "data": {
      "image/png": "[encoded data removed]",
      "text/plain": [
       "<Figure size 640x480 with 2 Axes>"
      ]
     },
     "metadata": {},
     "output_type": "display_data"
    }
   ],
   "source": [
    "sns.heatmap(data.corr(),vmin=-1,annot=True)"
   ]
  },
  {
   "cell_type": "code",
   "execution_count": null,
   "id": "fdc42b79",
   "metadata": {},
   "outputs": [],
   "source": []
  }
 ],
 "metadata": {
  "kernelspec": {
   "display_name": "Python 3 (ipykernel)",
   "language": "python",
   "name": "python3"
  },
  "language_info": {
   "codemirror_mode": {
    "name": "ipython",
    "version": 3
   },
   "file_extension": ".py",
   "mimetype": "text/x-python",
   "name": "python",
   "nbconvert_exporter": "python",
   "pygments_lexer": "ipython3",
   "version": "3.11.4"
  }
 },
 "nbformat": 4,
 "nbformat_minor": 5
}
