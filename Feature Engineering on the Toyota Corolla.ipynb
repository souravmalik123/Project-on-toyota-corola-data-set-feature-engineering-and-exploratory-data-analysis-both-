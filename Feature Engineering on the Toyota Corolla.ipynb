{
 "cells": [
  {
   "cell_type": "markdown",
   "id": "f98346e6",
   "metadata": {},
   "source": [
    "Import the dataset "
   ]
  },
  {
   "cell_type": "code",
   "execution_count": 1,
   "id": "146f8fe0",
   "metadata": {},
   "outputs": [],
   "source": [
    "import pandas as pd\n",
    "import numpy as np\n",
    "from sklearn.preprocessing import LabelEncoder\n",
    "from sklearn.preprocessing import StandardScaler\n",
    "from sklearn.model_selection import train_test_split\n",
    "from sklearn.linear_model import LinearRegression\n",
    "from sklearn.metrics import r2_score"
   ]
  },
  {
   "cell_type": "markdown",
   "id": "49c29d5c",
   "metadata": {},
   "source": [
    "Load the data set"
   ]
  },
  {
   "cell_type": "code",
   "execution_count": 2,
   "id": "68c7248b",
   "metadata": {},
   "outputs": [],
   "source": [
    "data = pd.read_csv(\"ToyotaCorolla.csv\",encoding=\"latin-1\")"
   ]
  },
  {
   "cell_type": "code",
   "execution_count": 3,
   "id": "a2aef8ee",
   "metadata": {},
   "outputs": [
    {
     "data": {
      "text/html": [
       "<div>\n",
       "<style scoped>\n",
       "    .dataframe tbody tr th:only-of-type {\n",
       "        vertical-align: middle;\n",
       "    }\n",
       "\n",
       "    .dataframe tbody tr th {\n",
       "        vertical-align: top;\n",
       "    }\n",
       "\n",
       "    .dataframe thead th {\n",
       "        text-align: right;\n",
       "    }\n",
       "</style>\n",
       "<table border=\"1\" class=\"dataframe\">\n",
       "  <thead>\n",
       "    <tr style=\"text-align: right;\">\n",
       "      <th></th>\n",
       "      <th>Id</th>\n",
       "      <th>Model</th>\n",
       "      <th>Price</th>\n",
       "      <th>Age_08_04</th>\n",
       "      <th>Mfg_Month</th>\n",
       "      <th>Mfg_Year</th>\n",
       "      <th>KM</th>\n",
       "      <th>Fuel_Type</th>\n",
       "      <th>HP</th>\n",
       "      <th>Met_Color</th>\n",
       "      <th>...</th>\n",
       "      <th>Central_Lock</th>\n",
       "      <th>Powered_Windows</th>\n",
       "      <th>Power_Steering</th>\n",
       "      <th>Radio</th>\n",
       "      <th>Mistlamps</th>\n",
       "      <th>Sport_Model</th>\n",
       "      <th>Backseat_Divider</th>\n",
       "      <th>Metallic_Rim</th>\n",
       "      <th>Radio_cassette</th>\n",
       "      <th>Tow_Bar</th>\n",
       "    </tr>\n",
       "  </thead>\n",
       "  <tbody>\n",
       "    <tr>\n",
       "      <th>0</th>\n",
       "      <td>1</td>\n",
       "      <td>TOYOTA Corolla 2.0 D4D HATCHB TERRA 2/3-Doors</td>\n",
       "      <td>13500</td>\n",
       "      <td>23</td>\n",
       "      <td>10</td>\n",
       "      <td>2002</td>\n",
       "      <td>46986</td>\n",
       "      <td>Diesel</td>\n",
       "      <td>90</td>\n",
       "      <td>1</td>\n",
       "      <td>...</td>\n",
       "      <td>1</td>\n",
       "      <td>1</td>\n",
       "      <td>1</td>\n",
       "      <td>0</td>\n",
       "      <td>0</td>\n",
       "      <td>0</td>\n",
       "      <td>1</td>\n",
       "      <td>0</td>\n",
       "      <td>0</td>\n",
       "      <td>0</td>\n",
       "    </tr>\n",
       "    <tr>\n",
       "      <th>1</th>\n",
       "      <td>2</td>\n",
       "      <td>TOYOTA Corolla 2.0 D4D HATCHB TERRA 2/3-Doors</td>\n",
       "      <td>13750</td>\n",
       "      <td>23</td>\n",
       "      <td>10</td>\n",
       "      <td>2002</td>\n",
       "      <td>72937</td>\n",
       "      <td>Diesel</td>\n",
       "      <td>90</td>\n",
       "      <td>1</td>\n",
       "      <td>...</td>\n",
       "      <td>1</td>\n",
       "      <td>0</td>\n",
       "      <td>1</td>\n",
       "      <td>0</td>\n",
       "      <td>0</td>\n",
       "      <td>0</td>\n",
       "      <td>1</td>\n",
       "      <td>0</td>\n",
       "      <td>0</td>\n",
       "      <td>0</td>\n",
       "    </tr>\n",
       "    <tr>\n",
       "      <th>2</th>\n",
       "      <td>3</td>\n",
       "      <td>TOYOTA Corolla 2.0 D4D HATCHB TERRA 2/3-Doors</td>\n",
       "      <td>13950</td>\n",
       "      <td>24</td>\n",
       "      <td>9</td>\n",
       "      <td>2002</td>\n",
       "      <td>41711</td>\n",
       "      <td>Diesel</td>\n",
       "      <td>90</td>\n",
       "      <td>1</td>\n",
       "      <td>...</td>\n",
       "      <td>0</td>\n",
       "      <td>0</td>\n",
       "      <td>1</td>\n",
       "      <td>0</td>\n",
       "      <td>0</td>\n",
       "      <td>0</td>\n",
       "      <td>1</td>\n",
       "      <td>0</td>\n",
       "      <td>0</td>\n",
       "      <td>0</td>\n",
       "    </tr>\n",
       "    <tr>\n",
       "      <th>3</th>\n",
       "      <td>4</td>\n",
       "      <td>TOYOTA Corolla 2.0 D4D HATCHB TERRA 2/3-Doors</td>\n",
       "      <td>14950</td>\n",
       "      <td>26</td>\n",
       "      <td>7</td>\n",
       "      <td>2002</td>\n",
       "      <td>48000</td>\n",
       "      <td>Diesel</td>\n",
       "      <td>90</td>\n",
       "      <td>0</td>\n",
       "      <td>...</td>\n",
       "      <td>0</td>\n",
       "      <td>0</td>\n",
       "      <td>1</td>\n",
       "      <td>0</td>\n",
       "      <td>0</td>\n",
       "      <td>0</td>\n",
       "      <td>1</td>\n",
       "      <td>0</td>\n",
       "      <td>0</td>\n",
       "      <td>0</td>\n",
       "    </tr>\n",
       "    <tr>\n",
       "      <th>4</th>\n",
       "      <td>5</td>\n",
       "      <td>TOYOTA Corolla 2.0 D4D HATCHB SOL 2/3-Doors</td>\n",
       "      <td>13750</td>\n",
       "      <td>30</td>\n",
       "      <td>3</td>\n",
       "      <td>2002</td>\n",
       "      <td>38500</td>\n",
       "      <td>Diesel</td>\n",
       "      <td>90</td>\n",
       "      <td>0</td>\n",
       "      <td>...</td>\n",
       "      <td>1</td>\n",
       "      <td>1</td>\n",
       "      <td>1</td>\n",
       "      <td>0</td>\n",
       "      <td>1</td>\n",
       "      <td>0</td>\n",
       "      <td>1</td>\n",
       "      <td>0</td>\n",
       "      <td>0</td>\n",
       "      <td>0</td>\n",
       "    </tr>\n",
       "  </tbody>\n",
       "</table>\n",
       "<p>5 rows × 38 columns</p>\n",
       "</div>"
      ],
      "text/plain": [
       "   Id                                           Model  Price  Age_08_04  \\\n",
       "0   1   TOYOTA Corolla 2.0 D4D HATCHB TERRA 2/3-Doors  13500         23   \n",
       "1   2   TOYOTA Corolla 2.0 D4D HATCHB TERRA 2/3-Doors  13750         23   \n",
       "2   3   TOYOTA Corolla 2.0 D4D HATCHB TERRA 2/3-Doors  13950         24   \n",
       "3   4   TOYOTA Corolla 2.0 D4D HATCHB TERRA 2/3-Doors  14950         26   \n",
       "4   5     TOYOTA Corolla 2.0 D4D HATCHB SOL 2/3-Doors  13750         30   \n",
       "\n",
       "   Mfg_Month  Mfg_Year     KM Fuel_Type  HP  Met_Color  ... Central_Lock  \\\n",
       "0         10      2002  46986    Diesel  90          1  ...            1   \n",
       "1         10      2002  72937    Diesel  90          1  ...            1   \n",
       "2          9      2002  41711    Diesel  90          1  ...            0   \n",
       "3          7      2002  48000    Diesel  90          0  ...            0   \n",
       "4          3      2002  38500    Diesel  90          0  ...            1   \n",
       "\n",
       "   Powered_Windows  Power_Steering  Radio  Mistlamps  Sport_Model  \\\n",
       "0                1               1      0          0            0   \n",
       "1                0               1      0          0            0   \n",
       "2                0               1      0          0            0   \n",
       "3                0               1      0          0            0   \n",
       "4                1               1      0          1            0   \n",
       "\n",
       "   Backseat_Divider  Metallic_Rim  Radio_cassette  Tow_Bar  \n",
       "0                 1             0               0        0  \n",
       "1                 1             0               0        0  \n",
       "2                 1             0               0        0  \n",
       "3                 1             0               0        0  \n",
       "4                 1             0               0        0  \n",
       "\n",
       "[5 rows x 38 columns]"
      ]
     },
     "execution_count": 3,
     "metadata": {},
     "output_type": "execute_result"
    }
   ],
   "source": [
    "data.head()"
   ]
  },
  {
   "cell_type": "markdown",
   "id": "274d2e1c",
   "metadata": {},
   "source": [
    "Drop the columns"
   ]
  },
  {
   "cell_type": "code",
   "execution_count": 4,
   "id": "3b150a7d",
   "metadata": {},
   "outputs": [],
   "source": [
    "data = data.drop(columns=[\"Id\",\"Mfg_Month\",\"Mfg_Year\",\"Met_Color\",\"Automatic\",\"Gears\",\"Quarterly_Tax\",\"Weight\",\"BOVAG_Guarantee\",\"Guarantee_Period\",\"Airbag_1\",\"Airbag_2\",\"Airco\",\"Automatic_airco\",\"Boardcomputer\",\"CD_Player\",\"Central_Lock\",\"Powered_Windows\",\"Power_Steering\",\"Radio\",\"Mistlamps\",\"Sport_Model\",\"Backseat_Divider\",\"Metallic_Rim\",\"Radio_cassette\",\"Tow_Bar\"],axis=1)"
   ]
  },
  {
   "cell_type": "code",
   "execution_count": 5,
   "id": "a0006485",
   "metadata": {},
   "outputs": [
    {
     "data": {
      "text/html": [
       "<div>\n",
       "<style scoped>\n",
       "    .dataframe tbody tr th:only-of-type {\n",
       "        vertical-align: middle;\n",
       "    }\n",
       "\n",
       "    .dataframe tbody tr th {\n",
       "        vertical-align: top;\n",
       "    }\n",
       "\n",
       "    .dataframe thead th {\n",
       "        text-align: right;\n",
       "    }\n",
       "</style>\n",
       "<table border=\"1\" class=\"dataframe\">\n",
       "  <thead>\n",
       "    <tr style=\"text-align: right;\">\n",
       "      <th></th>\n",
       "      <th>Model</th>\n",
       "      <th>Price</th>\n",
       "      <th>Age_08_04</th>\n",
       "      <th>KM</th>\n",
       "      <th>Fuel_Type</th>\n",
       "      <th>HP</th>\n",
       "      <th>Color</th>\n",
       "      <th>cc</th>\n",
       "      <th>Doors</th>\n",
       "      <th>Cylinders</th>\n",
       "      <th>Mfr_Guarantee</th>\n",
       "      <th>ABS</th>\n",
       "    </tr>\n",
       "  </thead>\n",
       "  <tbody>\n",
       "    <tr>\n",
       "      <th>0</th>\n",
       "      <td>TOYOTA Corolla 2.0 D4D HATCHB TERRA 2/3-Doors</td>\n",
       "      <td>13500</td>\n",
       "      <td>23</td>\n",
       "      <td>46986</td>\n",
       "      <td>Diesel</td>\n",
       "      <td>90</td>\n",
       "      <td>Blue</td>\n",
       "      <td>2000</td>\n",
       "      <td>3</td>\n",
       "      <td>4</td>\n",
       "      <td>0</td>\n",
       "      <td>1</td>\n",
       "    </tr>\n",
       "    <tr>\n",
       "      <th>1</th>\n",
       "      <td>TOYOTA Corolla 2.0 D4D HATCHB TERRA 2/3-Doors</td>\n",
       "      <td>13750</td>\n",
       "      <td>23</td>\n",
       "      <td>72937</td>\n",
       "      <td>Diesel</td>\n",
       "      <td>90</td>\n",
       "      <td>Silver</td>\n",
       "      <td>2000</td>\n",
       "      <td>3</td>\n",
       "      <td>4</td>\n",
       "      <td>0</td>\n",
       "      <td>1</td>\n",
       "    </tr>\n",
       "    <tr>\n",
       "      <th>2</th>\n",
       "      <td>TOYOTA Corolla 2.0 D4D HATCHB TERRA 2/3-Doors</td>\n",
       "      <td>13950</td>\n",
       "      <td>24</td>\n",
       "      <td>41711</td>\n",
       "      <td>Diesel</td>\n",
       "      <td>90</td>\n",
       "      <td>Blue</td>\n",
       "      <td>2000</td>\n",
       "      <td>3</td>\n",
       "      <td>4</td>\n",
       "      <td>1</td>\n",
       "      <td>1</td>\n",
       "    </tr>\n",
       "    <tr>\n",
       "      <th>3</th>\n",
       "      <td>TOYOTA Corolla 2.0 D4D HATCHB TERRA 2/3-Doors</td>\n",
       "      <td>14950</td>\n",
       "      <td>26</td>\n",
       "      <td>48000</td>\n",
       "      <td>Diesel</td>\n",
       "      <td>90</td>\n",
       "      <td>Black</td>\n",
       "      <td>2000</td>\n",
       "      <td>3</td>\n",
       "      <td>4</td>\n",
       "      <td>1</td>\n",
       "      <td>1</td>\n",
       "    </tr>\n",
       "    <tr>\n",
       "      <th>4</th>\n",
       "      <td>TOYOTA Corolla 2.0 D4D HATCHB SOL 2/3-Doors</td>\n",
       "      <td>13750</td>\n",
       "      <td>30</td>\n",
       "      <td>38500</td>\n",
       "      <td>Diesel</td>\n",
       "      <td>90</td>\n",
       "      <td>Black</td>\n",
       "      <td>2000</td>\n",
       "      <td>3</td>\n",
       "      <td>4</td>\n",
       "      <td>1</td>\n",
       "      <td>1</td>\n",
       "    </tr>\n",
       "  </tbody>\n",
       "</table>\n",
       "</div>"
      ],
      "text/plain": [
       "                                            Model  Price  Age_08_04     KM  \\\n",
       "0   TOYOTA Corolla 2.0 D4D HATCHB TERRA 2/3-Doors  13500         23  46986   \n",
       "1   TOYOTA Corolla 2.0 D4D HATCHB TERRA 2/3-Doors  13750         23  72937   \n",
       "2   TOYOTA Corolla 2.0 D4D HATCHB TERRA 2/3-Doors  13950         24  41711   \n",
       "3   TOYOTA Corolla 2.0 D4D HATCHB TERRA 2/3-Doors  14950         26  48000   \n",
       "4     TOYOTA Corolla 2.0 D4D HATCHB SOL 2/3-Doors  13750         30  38500   \n",
       "\n",
       "  Fuel_Type  HP   Color    cc  Doors  Cylinders  Mfr_Guarantee  ABS  \n",
       "0    Diesel  90    Blue  2000      3          4              0    1  \n",
       "1    Diesel  90  Silver  2000      3          4              0    1  \n",
       "2    Diesel  90    Blue  2000      3          4              1    1  \n",
       "3    Diesel  90   Black  2000      3          4              1    1  \n",
       "4    Diesel  90   Black  2000      3          4              1    1  "
      ]
     },
     "execution_count": 5,
     "metadata": {},
     "output_type": "execute_result"
    }
   ],
   "source": [
    "data.head()"
   ]
  },
  {
   "cell_type": "markdown",
   "id": "8a6efbe6",
   "metadata": {},
   "source": [
    "Some information about the data set"
   ]
  },
  {
   "cell_type": "code",
   "execution_count": 6,
   "id": "3b057da5",
   "metadata": {},
   "outputs": [
    {
     "data": {
      "text/plain": [
       "(1436, 12)"
      ]
     },
     "execution_count": 6,
     "metadata": {},
     "output_type": "execute_result"
    }
   ],
   "source": [
    "data.shape"
   ]
  },
  {
   "cell_type": "code",
   "execution_count": 7,
   "id": "98333cf0",
   "metadata": {},
   "outputs": [
    {
     "name": "stdout",
     "output_type": "stream",
     "text": [
      "<class 'pandas.core.frame.DataFrame'>\n",
      "RangeIndex: 1436 entries, 0 to 1435\n",
      "Data columns (total 12 columns):\n",
      " #   Column         Non-Null Count  Dtype \n",
      "---  ------         --------------  ----- \n",
      " 0   Model          1436 non-null   object\n",
      " 1   Price          1436 non-null   int64 \n",
      " 2   Age_08_04      1436 non-null   int64 \n",
      " 3   KM             1436 non-null   int64 \n",
      " 4   Fuel_Type      1436 non-null   object\n",
      " 5   HP             1436 non-null   int64 \n",
      " 6   Color          1436 non-null   object\n",
      " 7   cc             1436 non-null   int64 \n",
      " 8   Doors          1436 non-null   int64 \n",
      " 9   Cylinders      1436 non-null   int64 \n",
      " 10  Mfr_Guarantee  1436 non-null   int64 \n",
      " 11  ABS            1436 non-null   int64 \n",
      "dtypes: int64(9), object(3)\n",
      "memory usage: 134.8+ KB\n"
     ]
    }
   ],
   "source": [
    "data.info()"
   ]
  },
  {
   "cell_type": "code",
   "execution_count": 8,
   "id": "ce8476d8",
   "metadata": {},
   "outputs": [
    {
     "data": {
      "text/plain": [
       "Index(['Model', 'Price', 'Age_08_04', 'KM', 'Fuel_Type', 'HP', 'Color', 'cc',\n",
       "       'Doors', 'Cylinders', 'Mfr_Guarantee', 'ABS'],\n",
       "      dtype='object')"
      ]
     },
     "execution_count": 8,
     "metadata": {},
     "output_type": "execute_result"
    }
   ],
   "source": [
    "data.columns"
   ]
  },
  {
   "cell_type": "markdown",
   "id": "efc317a5",
   "metadata": {},
   "source": [
    "Some statistical information about the data set"
   ]
  },
  {
   "cell_type": "code",
   "execution_count": 9,
   "id": "6f661891",
   "metadata": {},
   "outputs": [
    {
     "data": {
      "text/html": [
       "<div>\n",
       "<style scoped>\n",
       "    .dataframe tbody tr th:only-of-type {\n",
       "        vertical-align: middle;\n",
       "    }\n",
       "\n",
       "    .dataframe tbody tr th {\n",
       "        vertical-align: top;\n",
       "    }\n",
       "\n",
       "    .dataframe thead th {\n",
       "        text-align: right;\n",
       "    }\n",
       "</style>\n",
       "<table border=\"1\" class=\"dataframe\">\n",
       "  <thead>\n",
       "    <tr style=\"text-align: right;\">\n",
       "      <th></th>\n",
       "      <th>Price</th>\n",
       "      <th>Age_08_04</th>\n",
       "      <th>KM</th>\n",
       "      <th>HP</th>\n",
       "      <th>cc</th>\n",
       "      <th>Doors</th>\n",
       "      <th>Cylinders</th>\n",
       "      <th>Mfr_Guarantee</th>\n",
       "      <th>ABS</th>\n",
       "    </tr>\n",
       "  </thead>\n",
       "  <tbody>\n",
       "    <tr>\n",
       "      <th>count</th>\n",
       "      <td>1436.000000</td>\n",
       "      <td>1436.000000</td>\n",
       "      <td>1436.000000</td>\n",
       "      <td>1436.000000</td>\n",
       "      <td>1436.00000</td>\n",
       "      <td>1436.000000</td>\n",
       "      <td>1436.0</td>\n",
       "      <td>1436.000000</td>\n",
       "      <td>1436.00000</td>\n",
       "    </tr>\n",
       "    <tr>\n",
       "      <th>mean</th>\n",
       "      <td>10730.824513</td>\n",
       "      <td>55.947075</td>\n",
       "      <td>68533.259749</td>\n",
       "      <td>101.502089</td>\n",
       "      <td>1576.85585</td>\n",
       "      <td>4.033426</td>\n",
       "      <td>4.0</td>\n",
       "      <td>0.409471</td>\n",
       "      <td>0.81337</td>\n",
       "    </tr>\n",
       "    <tr>\n",
       "      <th>std</th>\n",
       "      <td>3626.964585</td>\n",
       "      <td>18.599988</td>\n",
       "      <td>37506.448872</td>\n",
       "      <td>14.981080</td>\n",
       "      <td>424.38677</td>\n",
       "      <td>0.952677</td>\n",
       "      <td>0.0</td>\n",
       "      <td>0.491907</td>\n",
       "      <td>0.38975</td>\n",
       "    </tr>\n",
       "    <tr>\n",
       "      <th>min</th>\n",
       "      <td>4350.000000</td>\n",
       "      <td>1.000000</td>\n",
       "      <td>1.000000</td>\n",
       "      <td>69.000000</td>\n",
       "      <td>1300.00000</td>\n",
       "      <td>2.000000</td>\n",
       "      <td>4.0</td>\n",
       "      <td>0.000000</td>\n",
       "      <td>0.00000</td>\n",
       "    </tr>\n",
       "    <tr>\n",
       "      <th>25%</th>\n",
       "      <td>8450.000000</td>\n",
       "      <td>44.000000</td>\n",
       "      <td>43000.000000</td>\n",
       "      <td>90.000000</td>\n",
       "      <td>1400.00000</td>\n",
       "      <td>3.000000</td>\n",
       "      <td>4.0</td>\n",
       "      <td>0.000000</td>\n",
       "      <td>1.00000</td>\n",
       "    </tr>\n",
       "    <tr>\n",
       "      <th>50%</th>\n",
       "      <td>9900.000000</td>\n",
       "      <td>61.000000</td>\n",
       "      <td>63389.500000</td>\n",
       "      <td>110.000000</td>\n",
       "      <td>1600.00000</td>\n",
       "      <td>4.000000</td>\n",
       "      <td>4.0</td>\n",
       "      <td>0.000000</td>\n",
       "      <td>1.00000</td>\n",
       "    </tr>\n",
       "    <tr>\n",
       "      <th>75%</th>\n",
       "      <td>11950.000000</td>\n",
       "      <td>70.000000</td>\n",
       "      <td>87020.750000</td>\n",
       "      <td>110.000000</td>\n",
       "      <td>1600.00000</td>\n",
       "      <td>5.000000</td>\n",
       "      <td>4.0</td>\n",
       "      <td>1.000000</td>\n",
       "      <td>1.00000</td>\n",
       "    </tr>\n",
       "    <tr>\n",
       "      <th>max</th>\n",
       "      <td>32500.000000</td>\n",
       "      <td>80.000000</td>\n",
       "      <td>243000.000000</td>\n",
       "      <td>192.000000</td>\n",
       "      <td>16000.00000</td>\n",
       "      <td>5.000000</td>\n",
       "      <td>4.0</td>\n",
       "      <td>1.000000</td>\n",
       "      <td>1.00000</td>\n",
       "    </tr>\n",
       "  </tbody>\n",
       "</table>\n",
       "</div>"
      ],
      "text/plain": [
       "              Price    Age_08_04             KM           HP           cc  \\\n",
       "count   1436.000000  1436.000000    1436.000000  1436.000000   1436.00000   \n",
       "mean   10730.824513    55.947075   68533.259749   101.502089   1576.85585   \n",
       "std     3626.964585    18.599988   37506.448872    14.981080    424.38677   \n",
       "min     4350.000000     1.000000       1.000000    69.000000   1300.00000   \n",
       "25%     8450.000000    44.000000   43000.000000    90.000000   1400.00000   \n",
       "50%     9900.000000    61.000000   63389.500000   110.000000   1600.00000   \n",
       "75%    11950.000000    70.000000   87020.750000   110.000000   1600.00000   \n",
       "max    32500.000000    80.000000  243000.000000   192.000000  16000.00000   \n",
       "\n",
       "             Doors  Cylinders  Mfr_Guarantee         ABS  \n",
       "count  1436.000000     1436.0    1436.000000  1436.00000  \n",
       "mean      4.033426        4.0       0.409471     0.81337  \n",
       "std       0.952677        0.0       0.491907     0.38975  \n",
       "min       2.000000        4.0       0.000000     0.00000  \n",
       "25%       3.000000        4.0       0.000000     1.00000  \n",
       "50%       4.000000        4.0       0.000000     1.00000  \n",
       "75%       5.000000        4.0       1.000000     1.00000  \n",
       "max       5.000000        4.0       1.000000     1.00000  "
      ]
     },
     "execution_count": 9,
     "metadata": {},
     "output_type": "execute_result"
    }
   ],
   "source": [
    "data.describe()"
   ]
  },
  {
   "cell_type": "markdown",
   "id": "6d744a2f",
   "metadata": {},
   "source": [
    "Check the null values in the dataset\n",
    "\n",
    "No null values in the dataset "
   ]
  },
  {
   "cell_type": "code",
   "execution_count": 10,
   "id": "15444ac8",
   "metadata": {},
   "outputs": [
    {
     "data": {
      "text/plain": [
       "Model            0\n",
       "Price            0\n",
       "Age_08_04        0\n",
       "KM               0\n",
       "Fuel_Type        0\n",
       "HP               0\n",
       "Color            0\n",
       "cc               0\n",
       "Doors            0\n",
       "Cylinders        0\n",
       "Mfr_Guarantee    0\n",
       "ABS              0\n",
       "dtype: int64"
      ]
     },
     "execution_count": 10,
     "metadata": {},
     "output_type": "execute_result"
    }
   ],
   "source": [
    "data.isnull().sum()"
   ]
  },
  {
   "cell_type": "markdown",
   "id": "5a0e0225",
   "metadata": {},
   "source": [
    "Handling the categorical columns"
   ]
  },
  {
   "cell_type": "markdown",
   "id": "856cc250",
   "metadata": {},
   "source": [
    "Level Encoding"
   ]
  },
  {
   "cell_type": "code",
   "execution_count": 11,
   "id": "3a75bf75",
   "metadata": {},
   "outputs": [],
   "source": [
    "encoder = LabelEncoder()"
   ]
  },
  {
   "cell_type": "code",
   "execution_count": 12,
   "id": "4e037573",
   "metadata": {},
   "outputs": [],
   "source": [
    "data[\"Model\"] = encoder.fit_transform(data[\"Model\"])\n",
    "data[\"Color\"] = encoder.fit_transform(data[\"Color\"])\n",
    "data[\"Fuel_Type\"] = encoder.fit_transform(data[\"Fuel_Type\"])"
   ]
  },
  {
   "cell_type": "code",
   "execution_count": 13,
   "id": "8e762b6a",
   "metadata": {},
   "outputs": [
    {
     "data": {
      "text/html": [
       "<div>\n",
       "<style scoped>\n",
       "    .dataframe tbody tr th:only-of-type {\n",
       "        vertical-align: middle;\n",
       "    }\n",
       "\n",
       "    .dataframe tbody tr th {\n",
       "        vertical-align: top;\n",
       "    }\n",
       "\n",
       "    .dataframe thead th {\n",
       "        text-align: right;\n",
       "    }\n",
       "</style>\n",
       "<table border=\"1\" class=\"dataframe\">\n",
       "  <thead>\n",
       "    <tr style=\"text-align: right;\">\n",
       "      <th></th>\n",
       "      <th>Model</th>\n",
       "      <th>Price</th>\n",
       "      <th>Age_08_04</th>\n",
       "      <th>KM</th>\n",
       "      <th>Fuel_Type</th>\n",
       "      <th>HP</th>\n",
       "      <th>Color</th>\n",
       "      <th>cc</th>\n",
       "      <th>Doors</th>\n",
       "      <th>Cylinders</th>\n",
       "      <th>Mfr_Guarantee</th>\n",
       "      <th>ABS</th>\n",
       "    </tr>\n",
       "  </thead>\n",
       "  <tbody>\n",
       "    <tr>\n",
       "      <th>0</th>\n",
       "      <td>257</td>\n",
       "      <td>13500</td>\n",
       "      <td>23</td>\n",
       "      <td>46986</td>\n",
       "      <td>1</td>\n",
       "      <td>90</td>\n",
       "      <td>2</td>\n",
       "      <td>2000</td>\n",
       "      <td>3</td>\n",
       "      <td>4</td>\n",
       "      <td>0</td>\n",
       "      <td>1</td>\n",
       "    </tr>\n",
       "    <tr>\n",
       "      <th>1</th>\n",
       "      <td>257</td>\n",
       "      <td>13750</td>\n",
       "      <td>23</td>\n",
       "      <td>72937</td>\n",
       "      <td>1</td>\n",
       "      <td>90</td>\n",
       "      <td>6</td>\n",
       "      <td>2000</td>\n",
       "      <td>3</td>\n",
       "      <td>4</td>\n",
       "      <td>0</td>\n",
       "      <td>1</td>\n",
       "    </tr>\n",
       "    <tr>\n",
       "      <th>2</th>\n",
       "      <td>365</td>\n",
       "      <td>13950</td>\n",
       "      <td>24</td>\n",
       "      <td>41711</td>\n",
       "      <td>1</td>\n",
       "      <td>90</td>\n",
       "      <td>2</td>\n",
       "      <td>2000</td>\n",
       "      <td>3</td>\n",
       "      <td>4</td>\n",
       "      <td>1</td>\n",
       "      <td>1</td>\n",
       "    </tr>\n",
       "    <tr>\n",
       "      <th>3</th>\n",
       "      <td>257</td>\n",
       "      <td>14950</td>\n",
       "      <td>26</td>\n",
       "      <td>48000</td>\n",
       "      <td>1</td>\n",
       "      <td>90</td>\n",
       "      <td>1</td>\n",
       "      <td>2000</td>\n",
       "      <td>3</td>\n",
       "      <td>4</td>\n",
       "      <td>1</td>\n",
       "      <td>1</td>\n",
       "    </tr>\n",
       "    <tr>\n",
       "      <th>4</th>\n",
       "      <td>256</td>\n",
       "      <td>13750</td>\n",
       "      <td>30</td>\n",
       "      <td>38500</td>\n",
       "      <td>1</td>\n",
       "      <td>90</td>\n",
       "      <td>1</td>\n",
       "      <td>2000</td>\n",
       "      <td>3</td>\n",
       "      <td>4</td>\n",
       "      <td>1</td>\n",
       "      <td>1</td>\n",
       "    </tr>\n",
       "  </tbody>\n",
       "</table>\n",
       "</div>"
      ],
      "text/plain": [
       "   Model  Price  Age_08_04     KM  Fuel_Type  HP  Color    cc  Doors  \\\n",
       "0    257  13500         23  46986          1  90      2  2000      3   \n",
       "1    257  13750         23  72937          1  90      6  2000      3   \n",
       "2    365  13950         24  41711          1  90      2  2000      3   \n",
       "3    257  14950         26  48000          1  90      1  2000      3   \n",
       "4    256  13750         30  38500          1  90      1  2000      3   \n",
       "\n",
       "   Cylinders  Mfr_Guarantee  ABS  \n",
       "0          4              0    1  \n",
       "1          4              0    1  \n",
       "2          4              1    1  \n",
       "3          4              1    1  \n",
       "4          4              1    1  "
      ]
     },
     "execution_count": 13,
     "metadata": {},
     "output_type": "execute_result"
    }
   ],
   "source": [
    "data.head()"
   ]
  },
  {
   "cell_type": "markdown",
   "id": "3961dfbb",
   "metadata": {},
   "source": [
    "Spliting the dataset into target and feature "
   ]
  },
  {
   "cell_type": "code",
   "execution_count": 14,
   "id": "c0928826",
   "metadata": {},
   "outputs": [],
   "source": [
    "x = data.drop(columns=\"Price\",axis=1)\n",
    "y =data[\"Price\"]"
   ]
  },
  {
   "cell_type": "code",
   "execution_count": 15,
   "id": "8f613766",
   "metadata": {},
   "outputs": [
    {
     "name": "stdout",
     "output_type": "stream",
     "text": [
      "(1436, 11)\n"
     ]
    }
   ],
   "source": [
    "print(x.shape)"
   ]
  },
  {
   "cell_type": "code",
   "execution_count": 16,
   "id": "53605805",
   "metadata": {},
   "outputs": [
    {
     "name": "stdout",
     "output_type": "stream",
     "text": [
      "(1436,)\n"
     ]
    }
   ],
   "source": [
    "print(y.shape)"
   ]
  },
  {
   "cell_type": "markdown",
   "id": "e67682f9",
   "metadata": {},
   "source": [
    "Spliting the data set into train test split"
   ]
  },
  {
   "cell_type": "code",
   "execution_count": 17,
   "id": "0e87b12a",
   "metadata": {},
   "outputs": [],
   "source": [
    "x_train,x_test,y_train,y_test = train_test_split(x,y,test_size=0.2,random_state=42)"
   ]
  },
  {
   "cell_type": "code",
   "execution_count": 18,
   "id": "f2117994",
   "metadata": {},
   "outputs": [
    {
     "name": "stdout",
     "output_type": "stream",
     "text": [
      "(1436, 11) (1148, 11) (288, 11)\n"
     ]
    }
   ],
   "source": [
    "print(x.shape,x_train.shape,x_test.shape)"
   ]
  },
  {
   "cell_type": "code",
   "execution_count": 19,
   "id": "7ff828c0",
   "metadata": {},
   "outputs": [
    {
     "data": {
      "text/html": [
       "<div>\n",
       "<style scoped>\n",
       "    .dataframe tbody tr th:only-of-type {\n",
       "        vertical-align: middle;\n",
       "    }\n",
       "\n",
       "    .dataframe tbody tr th {\n",
       "        vertical-align: top;\n",
       "    }\n",
       "\n",
       "    .dataframe thead th {\n",
       "        text-align: right;\n",
       "    }\n",
       "</style>\n",
       "<table border=\"1\" class=\"dataframe\">\n",
       "  <thead>\n",
       "    <tr style=\"text-align: right;\">\n",
       "      <th></th>\n",
       "      <th>Model</th>\n",
       "      <th>Age_08_04</th>\n",
       "      <th>KM</th>\n",
       "      <th>Fuel_Type</th>\n",
       "      <th>HP</th>\n",
       "      <th>Color</th>\n",
       "      <th>cc</th>\n",
       "      <th>Doors</th>\n",
       "      <th>Cylinders</th>\n",
       "      <th>Mfr_Guarantee</th>\n",
       "      <th>ABS</th>\n",
       "    </tr>\n",
       "  </thead>\n",
       "  <tbody>\n",
       "    <tr>\n",
       "      <th>899</th>\n",
       "      <td>15</td>\n",
       "      <td>62</td>\n",
       "      <td>59295</td>\n",
       "      <td>2</td>\n",
       "      <td>86</td>\n",
       "      <td>5</td>\n",
       "      <td>1300</td>\n",
       "      <td>5</td>\n",
       "      <td>4</td>\n",
       "      <td>1</td>\n",
       "      <td>1</td>\n",
       "    </tr>\n",
       "    <tr>\n",
       "      <th>881</th>\n",
       "      <td>93</td>\n",
       "      <td>68</td>\n",
       "      <td>61568</td>\n",
       "      <td>2</td>\n",
       "      <td>110</td>\n",
       "      <td>6</td>\n",
       "      <td>1600</td>\n",
       "      <td>4</td>\n",
       "      <td>4</td>\n",
       "      <td>1</td>\n",
       "      <td>1</td>\n",
       "    </tr>\n",
       "    <tr>\n",
       "      <th>310</th>\n",
       "      <td>115</td>\n",
       "      <td>40</td>\n",
       "      <td>38653</td>\n",
       "      <td>2</td>\n",
       "      <td>110</td>\n",
       "      <td>3</td>\n",
       "      <td>1600</td>\n",
       "      <td>5</td>\n",
       "      <td>4</td>\n",
       "      <td>1</td>\n",
       "      <td>1</td>\n",
       "    </tr>\n",
       "    <tr>\n",
       "      <th>1145</th>\n",
       "      <td>87</td>\n",
       "      <td>75</td>\n",
       "      <td>101855</td>\n",
       "      <td>2</td>\n",
       "      <td>110</td>\n",
       "      <td>4</td>\n",
       "      <td>1600</td>\n",
       "      <td>5</td>\n",
       "      <td>4</td>\n",
       "      <td>0</td>\n",
       "      <td>0</td>\n",
       "    </tr>\n",
       "    <tr>\n",
       "      <th>31</th>\n",
       "      <td>52</td>\n",
       "      <td>22</td>\n",
       "      <td>35199</td>\n",
       "      <td>2</td>\n",
       "      <td>97</td>\n",
       "      <td>2</td>\n",
       "      <td>1400</td>\n",
       "      <td>3</td>\n",
       "      <td>4</td>\n",
       "      <td>1</td>\n",
       "      <td>1</td>\n",
       "    </tr>\n",
       "    <tr>\n",
       "      <th>...</th>\n",
       "      <td>...</td>\n",
       "      <td>...</td>\n",
       "      <td>...</td>\n",
       "      <td>...</td>\n",
       "      <td>...</td>\n",
       "      <td>...</td>\n",
       "      <td>...</td>\n",
       "      <td>...</td>\n",
       "      <td>...</td>\n",
       "      <td>...</td>\n",
       "      <td>...</td>\n",
       "    </tr>\n",
       "    <tr>\n",
       "      <th>1095</th>\n",
       "      <td>81</td>\n",
       "      <td>76</td>\n",
       "      <td>125778</td>\n",
       "      <td>2</td>\n",
       "      <td>110</td>\n",
       "      <td>4</td>\n",
       "      <td>1600</td>\n",
       "      <td>3</td>\n",
       "      <td>4</td>\n",
       "      <td>0</td>\n",
       "      <td>1</td>\n",
       "    </tr>\n",
       "    <tr>\n",
       "      <th>1130</th>\n",
       "      <td>83</td>\n",
       "      <td>73</td>\n",
       "      <td>107108</td>\n",
       "      <td>2</td>\n",
       "      <td>110</td>\n",
       "      <td>4</td>\n",
       "      <td>1600</td>\n",
       "      <td>3</td>\n",
       "      <td>4</td>\n",
       "      <td>0</td>\n",
       "      <td>0</td>\n",
       "    </tr>\n",
       "    <tr>\n",
       "      <th>1294</th>\n",
       "      <td>190</td>\n",
       "      <td>80</td>\n",
       "      <td>71740</td>\n",
       "      <td>2</td>\n",
       "      <td>110</td>\n",
       "      <td>6</td>\n",
       "      <td>1600</td>\n",
       "      <td>5</td>\n",
       "      <td>4</td>\n",
       "      <td>0</td>\n",
       "      <td>0</td>\n",
       "    </tr>\n",
       "    <tr>\n",
       "      <th>860</th>\n",
       "      <td>6</td>\n",
       "      <td>63</td>\n",
       "      <td>64690</td>\n",
       "      <td>2</td>\n",
       "      <td>86</td>\n",
       "      <td>5</td>\n",
       "      <td>1300</td>\n",
       "      <td>3</td>\n",
       "      <td>4</td>\n",
       "      <td>1</td>\n",
       "      <td>0</td>\n",
       "    </tr>\n",
       "    <tr>\n",
       "      <th>1126</th>\n",
       "      <td>93</td>\n",
       "      <td>80</td>\n",
       "      <td>110000</td>\n",
       "      <td>2</td>\n",
       "      <td>110</td>\n",
       "      <td>4</td>\n",
       "      <td>1600</td>\n",
       "      <td>4</td>\n",
       "      <td>4</td>\n",
       "      <td>0</td>\n",
       "      <td>0</td>\n",
       "    </tr>\n",
       "  </tbody>\n",
       "</table>\n",
       "<p>1148 rows × 11 columns</p>\n",
       "</div>"
      ],
      "text/plain": [
       "      Model  Age_08_04      KM  Fuel_Type   HP  Color    cc  Doors  Cylinders  \\\n",
       "899      15         62   59295          2   86      5  1300      5          4   \n",
       "881      93         68   61568          2  110      6  1600      4          4   \n",
       "310     115         40   38653          2  110      3  1600      5          4   \n",
       "1145     87         75  101855          2  110      4  1600      5          4   \n",
       "31       52         22   35199          2   97      2  1400      3          4   \n",
       "...     ...        ...     ...        ...  ...    ...   ...    ...        ...   \n",
       "1095     81         76  125778          2  110      4  1600      3          4   \n",
       "1130     83         73  107108          2  110      4  1600      3          4   \n",
       "1294    190         80   71740          2  110      6  1600      5          4   \n",
       "860       6         63   64690          2   86      5  1300      3          4   \n",
       "1126     93         80  110000          2  110      4  1600      4          4   \n",
       "\n",
       "      Mfr_Guarantee  ABS  \n",
       "899               1    1  \n",
       "881               1    1  \n",
       "310               1    1  \n",
       "1145              0    0  \n",
       "31                1    1  \n",
       "...             ...  ...  \n",
       "1095              0    1  \n",
       "1130              0    0  \n",
       "1294              0    0  \n",
       "860               1    0  \n",
       "1126              0    0  \n",
       "\n",
       "[1148 rows x 11 columns]"
      ]
     },
     "execution_count": 19,
     "metadata": {},
     "output_type": "execute_result"
    }
   ],
   "source": [
    "x_train"
   ]
  },
  {
   "cell_type": "markdown",
   "id": "7d469fb7",
   "metadata": {},
   "source": [
    "Standerdization"
   ]
  },
  {
   "cell_type": "code",
   "execution_count": 20,
   "id": "a4812666",
   "metadata": {},
   "outputs": [],
   "source": [
    "scaler = StandardScaler()"
   ]
  },
  {
   "cell_type": "code",
   "execution_count": 21,
   "id": "0ae57c10",
   "metadata": {},
   "outputs": [],
   "source": [
    "x_train = scaler.fit_transform(x_train)"
   ]
  },
  {
   "cell_type": "code",
   "execution_count": 22,
   "id": "0f253f58",
   "metadata": {},
   "outputs": [],
   "source": [
    "x_test = scaler.transform(x_test)"
   ]
  },
  {
   "cell_type": "code",
   "execution_count": 23,
   "id": "8c917896",
   "metadata": {},
   "outputs": [
    {
     "data": {
      "text/plain": [
       "array([[-1.15070128,  0.32969109, -0.25437232, ...,  0.        ,\n",
       "         1.20540095,  0.48963335],\n",
       "       [-0.3610019 ,  0.64944782, -0.19405395, ...,  0.        ,\n",
       "         1.20540095,  0.48963335],\n",
       "       [-0.13826618, -0.84275022, -0.80214697, ...,  0.        ,\n",
       "         1.20540095,  0.48963335],\n",
       "       ...,\n",
       "       [ 0.62106014,  1.28896126,  0.07587937, ...,  0.        ,\n",
       "        -0.82959948, -2.04234453],\n",
       "       [-1.24182043,  0.38298388, -0.11120576, ...,  0.        ,\n",
       "         1.20540095, -2.04234453],\n",
       "       [-0.3610019 ,  1.28896126,  1.09118108, ...,  0.        ,\n",
       "        -0.82959948, -2.04234453]])"
      ]
     },
     "execution_count": 23,
     "metadata": {},
     "output_type": "execute_result"
    }
   ],
   "source": [
    "x_train"
   ]
  },
  {
   "cell_type": "code",
   "execution_count": 24,
   "id": "e73a2580",
   "metadata": {},
   "outputs": [
    {
     "data": {
      "text/plain": [
       "0.9534625892455924"
      ]
     },
     "execution_count": 24,
     "metadata": {},
     "output_type": "execute_result"
    }
   ],
   "source": [
    "x_train.std()"
   ]
  },
  {
   "cell_type": "code",
   "execution_count": 25,
   "id": "463a1955",
   "metadata": {},
   "outputs": [
    {
     "data": {
      "text/plain": [
       "array([[-0.70522983, -0.30982235, -1.23079748, ...,  0.        ,\n",
       "        -0.82959948,  0.48963335],\n",
       "       [-0.50274281,  0.64944782,  0.30637886, ...,  0.        ,\n",
       "         1.20540095,  0.48963335],\n",
       "       [ 1.51200303,  0.16981273,  1.62191904, ...,  0.        ,\n",
       "        -0.82959948, -2.04234453],\n",
       "       ...,\n",
       "       [-0.13826618, -0.84275022, -0.73086886, ...,  0.        ,\n",
       "         1.20540095,  0.48963335],\n",
       "       [ 0.34770267,  1.07579011, -1.82785114, ...,  0.        ,\n",
       "        -0.82959948, -2.04234453],\n",
       "       [-0.48249411,  0.16981273, -0.84723316, ...,  0.        ,\n",
       "         1.20540095,  0.48963335]])"
      ]
     },
     "execution_count": 25,
     "metadata": {},
     "output_type": "execute_result"
    }
   ],
   "source": [
    "x_test"
   ]
  },
  {
   "cell_type": "code",
   "execution_count": 26,
   "id": "bdd46e1a",
   "metadata": {},
   "outputs": [
    {
     "data": {
      "text/plain": [
       "0.8677169750764777"
      ]
     },
     "execution_count": 26,
     "metadata": {},
     "output_type": "execute_result"
    }
   ],
   "source": [
    "x_test.std()"
   ]
  },
  {
   "cell_type": "code",
   "execution_count": 27,
   "id": "391de374",
   "metadata": {},
   "outputs": [
    {
     "name": "stdout",
     "output_type": "stream",
     "text": [
      "Load The Model\n"
     ]
    }
   ],
   "source": [
    "model = LinearRegression()\n",
    "print(\"Load The Model\")"
   ]
  },
  {
   "cell_type": "code",
   "execution_count": 28,
   "id": "1c43943d",
   "metadata": {},
   "outputs": [
    {
     "name": "stdout",
     "output_type": "stream",
     "text": [
      "Model Is trainned\n"
     ]
    }
   ],
   "source": [
    "model_train = model.fit(x_train,y_train)\n",
    "print(\"Model Is trainned\")"
   ]
  },
  {
   "cell_type": "code",
   "execution_count": 29,
   "id": "4fa3a6f3",
   "metadata": {},
   "outputs": [],
   "source": [
    "model_pred = model_train.predict(x_test)"
   ]
  },
  {
   "cell_type": "code",
   "execution_count": 30,
   "id": "6a8bc6d8",
   "metadata": {},
   "outputs": [
    {
     "data": {
      "text/plain": [
       "array([11633.31787045,  8800.63167311,  9408.42689554,  8670.80082651,\n",
       "        9884.91639846,  7148.67065191,  9155.02186299,  8376.38821805,\n",
       "       14639.79592115, 13610.25202006,  8785.08148693,  9075.57733087,\n",
       "       13156.72158109, 14555.20643345, 10274.5007393 ,  8294.48514137,\n",
       "       13119.11855487, 15738.49740965,  7958.84457757,  9381.83859957,\n",
       "       13525.70933577, 17808.8537755 ,  7973.27557785, 10971.00776792,\n",
       "        7530.06838117, 15834.64640187,  9466.1129066 ,  7281.32370381,\n",
       "       15553.59897773, 15155.84873163,  8350.71263817, 10307.54993833,\n",
       "        8711.34757931, 10303.07497901, 10087.61335646,  7574.32357202,\n",
       "        9234.10023948,  9931.17855276, 15940.71529169,  9590.61111758,\n",
       "        9638.40257723,  9483.97376229,  8039.89472478,  5505.70392015,\n",
       "        6753.42810236, 17045.65209779,  9372.96784854, 10777.42902845,\n",
       "        8883.10533536, 14056.60904715, 13354.20111661,  6274.89576462,\n",
       "       14595.03635692, 15644.64473151,  5803.36784671,  7386.51654198,\n",
       "       11097.74163151, 10688.31331129, 15491.61133542, 18084.76928791,\n",
       "       12856.78624118,  7487.97998503,  8053.83430079, 12031.74041946,\n",
       "       14067.05686589,  8716.10110449, 13199.22490813,  8104.17816841,\n",
       "        8178.83254223, 11722.14378308, 18699.7805065 , 11608.00445386,\n",
       "       13691.4746807 ,  8093.62437885, 18859.2243114 , 14879.88481301,\n",
       "        7640.33224781,  7313.71113176,  9872.09702864,  8374.1420442 ,\n",
       "       10380.31575138,  8638.74833744, 11285.93277234, 11829.50219762,\n",
       "        7975.86339785,  5966.74128159, 10072.90506127, 13381.68519476,\n",
       "        9461.60881854, 11901.23231536,  6811.02820861,  6845.22556157,\n",
       "       10746.66619384, 10343.46338898, 13154.43551144,  8824.4338269 ,\n",
       "       19417.93564896,  7437.73775498, 13958.34718223,  9034.61100724,\n",
       "       10948.75652631,  9729.22334442, 11389.15187216, 16617.8149627 ,\n",
       "        9257.46286327,  7988.48718768, 14833.42407913,  7523.78139205,\n",
       "        9335.32723359,  8297.05659069, 11564.97611878, 10826.29366189,\n",
       "       10106.59414883, 14063.59883177,  9053.69401997,  8373.08158152,\n",
       "        6464.01212159, 13724.30037977, 12322.98820145, 14763.06946398,\n",
       "        8287.70435391,  7589.9515996 ,  8547.92245576, 16158.22228175,\n",
       "       12328.85403142,  8132.60581836, 13330.13132793,  8764.16066563,\n",
       "        8198.80608909, 12543.64148257, 12295.28441691, 15276.96311768,\n",
       "        9898.6623197 , 10024.38813172,  6279.84314371,  7951.76831634,\n",
       "       10559.45539376, 11203.93349523,  7407.02280885,  5729.18984362,\n",
       "       12214.67579092, 10049.76857412, 13547.13455991,  7546.7223202 ,\n",
       "       12336.57487589, 10842.56311814,  6824.11967717,  8186.78143604,\n",
       "        8195.45535118, 11846.54034474, 10107.59845709, 15656.30490876,\n",
       "        7924.76834966,  8474.4009721 , 11827.0925384 , 10744.01669343,\n",
       "        8348.55967961, 13927.13721505,  9130.61089287, 19677.95959662,\n",
       "       11018.32641051, 15211.51813656, 14843.38643072,  7315.42966078,\n",
       "        9153.11713819, 13505.82053205,  8304.50551854, 14333.82598355,\n",
       "        7916.99485315,  7740.48605317,  9016.49337276, 13800.59816243,\n",
       "        9580.37798729, 13204.31618227, 10463.04337799,  9544.53879492,\n",
       "       16474.52281951, 11702.9588561 ,  9276.10024355, 11391.20899742,\n",
       "       12249.21249709,  9941.5414833 , 13957.99842771,  7256.46602396,\n",
       "        9352.52510714,  7891.24299384,  6393.5767286 ,  8358.00438773,\n",
       "        9708.26454032, 10217.63713951,  8452.318967  ,  7929.83021648,\n",
       "        6629.16361623, 12226.78812098, 10254.15765879, 11035.24385317,\n",
       "        7634.68908689,  7732.24560352, 10393.21959752, 16834.58072107,\n",
       "        8860.6333802 ,  7782.6209058 ,  6109.27365903,  8908.60275467,\n",
       "       15918.71376149, 16846.14476399, 10965.42091619,  9785.43174275,\n",
       "       11830.5201705 ,  9051.35509293,  8549.39381065, 11254.17117871,\n",
       "        9262.04459207, 10383.75008662,  6430.34987961, 12146.99491775,\n",
       "        8245.82789137,  8865.15173687,  7370.499222  , 11295.81894089,\n",
       "        8732.96547103, 11530.26090999, 11211.75532331, 10937.26146304,\n",
       "       16775.02959507,  6306.52891278, 15876.4632682 ,  7034.47646839,\n",
       "       13315.35678945,  7483.8442376 , 13217.72182542,  8955.40945935,\n",
       "       21095.76486859,  6889.25386277,  9175.25578635,  8096.70449846,\n",
       "       14500.19521604, 13578.93238149,  9748.49980179,  9236.9980615 ,\n",
       "       14178.56057454, 19393.32559761, 13816.44575369,  9626.02641527,\n",
       "       20345.47373863, 10032.33144454,  8950.01902603,  9713.04058831,\n",
       "        9312.86440476,  8560.2399247 ,  8092.89197336, 10224.31480092,\n",
       "        7985.81261838,  5451.55589428, 10367.14196519, 11583.92859373,\n",
       "        7307.59939122, 10654.03531708, 13856.60009736, 11541.80276617,\n",
       "       13596.44255132,  7065.35238742,  6728.54570831, 10539.95355673,\n",
       "        6670.61046884, 11609.09370207, 13805.58457064,  4990.63928563,\n",
       "        8115.7019279 ,  8144.42715096, 13677.64472328, 15265.47281212,\n",
       "        6311.53687164, 14224.3344503 ,  7368.39952813,  7423.30863701,\n",
       "        7827.8253704 ,  7328.84972244,  6184.09504906, 13644.60402739,\n",
       "       20101.93899974, 10529.60769812,  7689.37608167, 18997.22733404,\n",
       "        7450.09626118, 14062.9705442 ,  9763.65710469, 10841.09191101])"
      ]
     },
     "execution_count": 30,
     "metadata": {},
     "output_type": "execute_result"
    }
   ],
   "source": [
    "model_pred"
   ]
  },
  {
   "cell_type": "code",
   "execution_count": 31,
   "id": "163aac4c",
   "metadata": {},
   "outputs": [
    {
     "data": {
      "text/plain": [
       "594     10800\n",
       "754      9950\n",
       "630      7500\n",
       "1259     9250\n",
       "903      9750\n",
       "        ...  \n",
       "174     21950\n",
       "1428     8450\n",
       "297     12850\n",
       "1435     6950\n",
       "1009     8900\n",
       "Name: Price, Length: 288, dtype: int64"
      ]
     },
     "execution_count": 31,
     "metadata": {},
     "output_type": "execute_result"
    }
   ],
   "source": [
    "y_test"
   ]
  },
  {
   "cell_type": "code",
   "execution_count": 32,
   "id": "a78b2827",
   "metadata": {},
   "outputs": [],
   "source": [
    "acc_model = r2_score(y_test,model_pred)"
   ]
  },
  {
   "cell_type": "code",
   "execution_count": 33,
   "id": "29a78bf7",
   "metadata": {},
   "outputs": [
    {
     "name": "stdout",
     "output_type": "stream",
     "text": [
      "0.8242389270798438\n"
     ]
    }
   ],
   "source": [
    "print(acc_model)"
   ]
  },
  {
   "cell_type": "code",
   "execution_count": null,
   "id": "fd3c3660",
   "metadata": {},
   "outputs": [],
   "source": []
  }
 ],
 "metadata": {
  "kernelspec": {
   "display_name": "Python 3 (ipykernel)",
   "language": "python",
   "name": "python3"
  },
  "language_info": {
   "codemirror_mode": {
    "name": "ipython",
    "version": 3
   },
   "file_extension": ".py",
   "mimetype": "text/x-python",
   "name": "python",
   "nbconvert_exporter": "python",
   "pygments_lexer": "ipython3",
   "version": "3.11.4"
  }
 },
 "nbformat": 4,
 "nbformat_minor": 5
}
